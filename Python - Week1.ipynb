{
 "cells": [
  {
   "cell_type": "markdown",
   "id": "3a83c2c7",
   "metadata": {},
   "source": [
    "# Python Object Oriented Programming"
   ]
  },
  {
   "cell_type": "markdown",
   "id": "ead78047",
   "metadata": {},
   "source": [
    "Why do we need classes?\n",
    "\n",
    "Classes allow to logically group the data and functions in a way that is easy to reuse and also easy to buildupon if needed.\n",
    "Attributes and Methods are nothing but Data and Functions assosciated with that specific class.\n",
    "A class is a blueprint for creating instances "
   ]
  },
  {
   "cell_type": "code",
   "execution_count": 3,
   "id": "a37ea76f",
   "metadata": {},
   "outputs": [
    {
     "name": "stdout",
     "output_type": "stream",
     "text": [
      "<__main__.Employee object at 0x00000251CFCBD810>\n",
      "<__main__.Employee object at 0x00000251CFCBC790>\n"
     ]
    }
   ],
   "source": [
    "# Class Definition\n",
    "class Employee:\n",
    "    pass\n",
    "# Class instance Definition\n",
    "emp_1 = Employee()\n",
    "emp_2 = Employee()\n",
    "#Printing the instances\n",
    "print(emp_1)\n",
    "print(emp_2)"
   ]
  },
  {
   "cell_type": "code",
   "execution_count": 8,
   "id": "13c2e74c",
   "metadata": {},
   "outputs": [
    {
     "name": "stdout",
     "output_type": "stream",
     "text": [
      "Corey.Schafer@company.com\n",
      "Test.User@company.com\n"
     ]
    }
   ],
   "source": [
    "# Adding Attributes to instances\n",
    "emp_1.first = 'Corey'\n",
    "emp_1.last = 'Schafer'\n",
    "emp_1.email = 'Corey.Schafer@company.com'\n",
    "emp_1.pay = 50000\n",
    "emp_2.first = 'Test'\n",
    "emp_2.last = 'User'\n",
    "emp_2.email = 'Test.User@company.com'\n",
    "emp_2.pay = 50000\n",
    "# Printing email of the employee\n",
    "print(emp_1.email)\n",
    "print(emp_2.email)"
   ]
  },
  {
   "cell_type": "markdown",
   "id": "b21e3924",
   "metadata": {},
   "source": [
    "But Creating the above is difficult as manual entry are prone to mistakes. So the solution is to use init method"
   ]
  },
  {
   "cell_type": "code",
   "execution_count": 7,
   "id": "1bb0d33d",
   "metadata": {},
   "outputs": [
    {
     "name": "stdout",
     "output_type": "stream",
     "text": [
      "Corey.Schafer_@company.com\n",
      "Test.User_@company.com\n"
     ]
    }
   ],
   "source": [
    "class Employee:\n",
    "    #Same as constructor receives the instance as first argument\n",
    "    def __init__(self,first, last, pay):\n",
    "        self.first = first\n",
    "        self.last = last\n",
    "        self.pay = pay\n",
    "        self.email = first + '.' + last + '_@company.com'\n",
    "emp_1 = Employee('Corey','Schafer',50000)\n",
    "emp_2 = Employee('Test','User',60000)  \n",
    "print(emp_1.email)\n",
    "print(emp_2.email)"
   ]
  },
  {
   "cell_type": "markdown",
   "id": "29a440c2",
   "metadata": {},
   "source": [
    "In the above example emp_1 is passed to self , First argument is passed as first , Second argument is passed as Second, Third argument is passed as pay"
   ]
  },
  {
   "cell_type": "markdown",
   "id": "b7e01a93",
   "metadata": {},
   "source": [
    "Now developing another method to display full name of the employee"
   ]
  },
  {
   "cell_type": "code",
   "execution_count": 9,
   "id": "49ab0c4b",
   "metadata": {},
   "outputs": [
    {
     "name": "stdout",
     "output_type": "stream",
     "text": [
      "Corey Schafer\n",
      "Test User\n"
     ]
    }
   ],
   "source": [
    "class Employee:\n",
    "    #Same as constructor receives the instance as first argument\n",
    "    def __init__(self,first, last, pay):\n",
    "        self.first = first\n",
    "        self.last = last\n",
    "        self.pay = pay\n",
    "        self.email = first + '.' + last + '_@company.com'\n",
    "        \n",
    "    def fullname(self):\n",
    "        return '{} {}'.format(self.first,self.last)\n",
    "    \n",
    "emp_1 = Employee('Corey','Schafer',50000)\n",
    "emp_2 = Employee('Test','User',60000)  \n",
    "#Calling full name method created (Creating instance of a class)\n",
    "print(emp_1.fullname())\n",
    "print(emp_2.fullname())"
   ]
  },
  {
   "cell_type": "markdown",
   "id": "a06dfef0",
   "metadata": {},
   "source": [
    "Parenthesis is required as it is a method or else it prints the method itself like below"
   ]
  },
  {
   "cell_type": "code",
   "execution_count": 11,
   "id": "dfcbe5ff",
   "metadata": {},
   "outputs": [
    {
     "name": "stdout",
     "output_type": "stream",
     "text": [
      "<bound method Employee.fullname of <__main__.Employee object at 0x00000251CFD55ED0>>\n"
     ]
    }
   ],
   "source": [
    "print(emp_1.fullname)"
   ]
  },
  {
   "cell_type": "markdown",
   "id": "19041212",
   "metadata": {},
   "source": [
    "Note: Though we are not passing parameter to emp_1.fullname() , by default it is taking emp_1 as the argument.\n",
    "For instance there is no need to pass self as the argument because it takes the instance name by default but when classes are used to call these methids it has to be passed explicitly"
   ]
  },
  {
   "cell_type": "code",
   "execution_count": 14,
   "id": "9f38dead",
   "metadata": {},
   "outputs": [
    {
     "data": {
      "text/plain": [
       "'Corey Schafer'"
      ]
     },
     "execution_count": 14,
     "metadata": {},
     "output_type": "execute_result"
    }
   ],
   "source": [
    "Employee.fullname(emp_1)"
   ]
  },
  {
   "cell_type": "markdown",
   "id": "681c0894",
   "metadata": {},
   "source": [
    "Class variables\n",
    "\n",
    "\n",
    "Class variables are the variables that are shared among all instances of a class. It should be same for each instance\n",
    "Below example demonstrates class variable use case"
   ]
  },
  {
   "cell_type": "code",
   "execution_count": 22,
   "id": "f2e8d69a",
   "metadata": {},
   "outputs": [
    {
     "name": "stdout",
     "output_type": "stream",
     "text": [
      "1.04\n",
      "1.04\n",
      "1.04\n",
      "{'__module__': '__main__', 'raise_amount': 1.04, '__init__': <function Employee.__init__ at 0x00000251CFDE3380>, 'fullname': <function Employee.fullname at 0x00000251CFDE2840>, 'apply_raise': <function Employee.apply_raise at 0x00000251CFDE3600>, '__dict__': <attribute '__dict__' of 'Employee' objects>, '__weakref__': <attribute '__weakref__' of 'Employee' objects>, '__doc__': None}\n",
      "{'first': 'Corey', 'last': 'Schafer', 'pay': 50000, 'email': 'Corey.Schafer_@company.com'}\n"
     ]
    }
   ],
   "source": [
    "class Employee:\n",
    "    # Definition of class variable\n",
    "    raise_amount = 1.04\n",
    "\n",
    "    def __init__(self,first, last, pay):\n",
    "        self.first = first\n",
    "        self.last = last\n",
    "        self.pay = pay\n",
    "        self.email = first + '.' + last + '_@company.com'\n",
    "        \n",
    "    def fullname(self):\n",
    "        return '{} {}'.format(self.first,self.last)\n",
    "    \n",
    "    #Demo of class variable\n",
    "    def apply_raise(self):\n",
    "        self.pay = int(self.pay * self.raise_amount)\n",
    "    \n",
    "emp_1 = Employee('Corey','Schafer',50000)\n",
    "emp_2 = Employee('Test','User',60000)  \n",
    "\n",
    "print(Employee.raise_amount)\n",
    "print(emp_1.raise_amount)\n",
    "print(emp_2.raise_amount)\n",
    "print(Employee.__dict__)\n",
    "print(emp_1.__dict__)"
   ]
  },
  {
   "cell_type": "markdown",
   "id": "e94dfc46",
   "metadata": {},
   "source": [
    "Conclusion is the instance also can access class variable and class also can access its class variable and also we can see the class variable in the dictionary of class\n",
    "\n",
    "To change the value for the raise amount, it has to be updated from class or else it will not be updated "
   ]
  },
  {
   "cell_type": "code",
   "execution_count": 23,
   "id": "8f984c29",
   "metadata": {},
   "outputs": [
    {
     "name": "stdout",
     "output_type": "stream",
     "text": [
      "{'first': 'Corey', 'last': 'Schafer', 'pay': 50000, 'email': 'Corey.Schafer_@company.com'}\n",
      "1.05\n",
      "1.05\n",
      "1.05\n",
      "{'first': 'Corey', 'last': 'Schafer', 'pay': 50000, 'email': 'Corey.Schafer_@company.com', 'raise_amount': 1.04}\n",
      "1.05\n",
      "1.04\n",
      "1.05\n"
     ]
    }
   ],
   "source": [
    "#Updating class variable using class\n",
    "Employee.raise_amount = 1.05\n",
    "print(emp_1.__dict__)\n",
    "print(Employee.raise_amount)\n",
    "print(emp_1.raise_amount)\n",
    "print(emp_2.raise_amount)\n",
    "#Updating class variable using Instance\n",
    "emp_1.raise_amount = 1.04\n",
    "print(emp_1.__dict__)\n",
    "print(Employee.raise_amount)\n",
    "print(emp_1.raise_amount)\n",
    "print(emp_2.raise_amount)"
   ]
  },
  {
   "cell_type": "markdown",
   "id": "f898d99b",
   "metadata": {},
   "source": [
    "We can See the difference of dictionaries"
   ]
  },
  {
   "cell_type": "code",
   "execution_count": 27,
   "id": "3cdc3543",
   "metadata": {},
   "outputs": [
    {
     "name": "stdout",
     "output_type": "stream",
     "text": [
      "2\n"
     ]
    }
   ],
   "source": [
    "# Another Example of class variable\n",
    "class Employee:\n",
    "# Definition of class variable\n",
    "    num_of_emps = 0\n",
    "    raise_amount = 1.04\n",
    "\n",
    "    def __init__(self,first, last, pay):\n",
    "        self.first = first\n",
    "        self.last = last\n",
    "        self.pay = pay\n",
    "        self.email = first + '.' + last + '_@company.com'\n",
    "                \n",
    "        Employee.num_of_emps += 1    \n",
    "        \n",
    "    def fullname(self):\n",
    "        return '{} {}'.format(self.first,self.last)\n",
    "    \n",
    "    def apply_raise(self):\n",
    "        self.pay = int(self.pay * self.raise_amount)\n",
    "    \n",
    "emp_1 = Employee('Corey','Schafer',50000)\n",
    "emp_2 = Employee('Test','User',60000)  \n",
    "\n",
    "print(Employee.num_of_emps)"
   ]
  },
  {
   "cell_type": "code",
   "execution_count": 36,
   "id": "2b858611",
   "metadata": {},
   "outputs": [
    {
     "name": "stdout",
     "output_type": "stream",
     "text": [
      "1.05\n",
      "1.05\n",
      "1.05\n"
     ]
    }
   ],
   "source": [
    "# Class method Example \n",
    "class Employee:\n",
    "    num_of_emps = 0\n",
    "    raise_amount = 1.04\n",
    "\n",
    "    def __init__(self,first, last, pay):\n",
    "        self.first = first\n",
    "        self.last = last\n",
    "        self.pay = pay\n",
    "        self.email = first + '.' + last + '_@company.com'\n",
    "                \n",
    "        Employee.num_of_emps += 1    \n",
    "        \n",
    "    def fullname(self):\n",
    "        return '{} {}'.format(self.first,self.last)\n",
    "    \n",
    "    def apply_raise(self):\n",
    "        self.pay = int(self.pay * self.raise_amount)\n",
    "        \n",
    "#defining class method\n",
    "    @classmethod\n",
    "    def set_raise_amt(cls, amount):\n",
    "        cls.raise_amount = amount\n",
    "    \n",
    "emp_1 = Employee('Corey','Schafer',50000)\n",
    "emp_2 = Employee('Test','User',60000)  \n",
    "\n",
    "Employee.set_raise_amt(1.05)\n",
    "\n",
    "print(Employee.raise_amount)\n",
    "print(emp_1.raise_amount)\n",
    "print(emp_2.raise_amount)\n"
   ]
  },
  {
   "cell_type": "code",
   "execution_count": 40,
   "id": "996fb56e",
   "metadata": {},
   "outputs": [
    {
     "name": "stdout",
     "output_type": "stream",
     "text": [
      "John.Doe_@company.com\n",
      "Steve.Smith_@company.com\n"
     ]
    }
   ],
   "source": [
    "#Another Example for Class method\n",
    "#Requirement is instead of passing the first,last,pay seperately user has a string seperated by '-' Now there are 2 ways to do \n",
    "# This is the lengthier method\n",
    "\n",
    "class Employee:\n",
    "    num_of_emps = 0\n",
    "    raise_amount = 1.04\n",
    "\n",
    "    def __init__(self,first, last, pay):\n",
    "        self.first = first\n",
    "        self.last = last\n",
    "        self.pay = pay\n",
    "        self.email = first + '.' + last + '_@company.com'\n",
    "                \n",
    "        Employee.num_of_emps += 1    \n",
    "        \n",
    "    def fullname(self):\n",
    "        return '{} {}'.format(self.first,self.last)\n",
    "    \n",
    "    def apply_raise(self):\n",
    "        self.pay = int(self.pay * self.raise_amount)\n",
    "        \n",
    "#defining class method\n",
    "    @classmethod\n",
    "    def set_raise_amt(cls, amount):\n",
    "        cls.raise_amount = amount\n",
    "    \n",
    "emp_str_1 = 'John-Doe-70000'\n",
    "emp_str_2 = 'Steve-Smith-70000'\n",
    "\n",
    "first, last, pay = emp_str_1.split('-')\n",
    "new_emp_str_1 = Employee(first, last, pay)\n",
    "first, last, pay = emp_str_2.split('-')\n",
    "new_emp_str_2 = Employee(first, last, pay)\n",
    "\n",
    "print(new_emp_str_1.email)\n",
    "print(new_emp_str_2.email)\n"
   ]
  },
  {
   "cell_type": "code",
   "execution_count": 42,
   "id": "e6e3ba71",
   "metadata": {},
   "outputs": [
    {
     "name": "stdout",
     "output_type": "stream",
     "text": [
      "John.Doe_@company.com\n",
      "70000\n"
     ]
    }
   ],
   "source": [
    "# This is the Easierway for the above requirement\n",
    "class Employee:\n",
    "    num_of_emps = 0\n",
    "    raise_amount = 1.04\n",
    "\n",
    "    def __init__(self,first, last, pay):\n",
    "        self.first = first\n",
    "        self.last = last\n",
    "        self.pay = pay\n",
    "        self.email = first + '.' + last + '_@company.com'\n",
    "                \n",
    "        Employee.num_of_emps += 1    \n",
    "        \n",
    "    def fullname(self):\n",
    "        return '{} {}'.format(self.first,self.last)\n",
    "    \n",
    "    def apply_raise(self):\n",
    "        self.pay = int(self.pay * self.raise_amount)\n",
    "        \n",
    "    @classmethod\n",
    "    def set_raise_amt(cls, amount):\n",
    "        cls.raise_amount = amount\n",
    "        \n",
    "#defining new class method     \n",
    "    @classmethod\n",
    "    def from_string(cls,emp_str):\n",
    "        first, last, pay = emp_str.split('-')\n",
    "        return cls(first, last , pay)\n",
    "        \n",
    "    \n",
    "emp_str_1 = 'John-Doe-70000'\n",
    "\n",
    "new_emp_1 = Employee.from_string(emp_str_1)\n",
    "\n",
    "print(new_emp_str_1.email)\n",
    "print(new_emp_str_1.pay)"
   ]
  },
  {
   "cell_type": "markdown",
   "id": "8306b3f0",
   "metadata": {},
   "source": [
    "If method doesnt depend on instance or class variable then those methods need not be defined with self/cls and these methods are called static methods or in other words if the method doesnt access the instance or class within it then it is a static method"
   ]
  },
  {
   "cell_type": "code",
   "execution_count": 44,
   "id": "bc1dd8d6",
   "metadata": {},
   "outputs": [
    {
     "name": "stdout",
     "output_type": "stream",
     "text": [
      "True\n"
     ]
    }
   ],
   "source": [
    "# This is an example of static method\n",
    "class Employee:\n",
    "    num_of_emps = 0\n",
    "    raise_amount = 1.04\n",
    "\n",
    "    def __init__(self,first, last, pay):\n",
    "        self.first = first\n",
    "        self.last = last\n",
    "        self.pay = pay\n",
    "        self.email = first + '.' + last + '_@company.com'\n",
    "                \n",
    "        Employee.num_of_emps += 1    \n",
    "        \n",
    "    def fullname(self):\n",
    "        return '{} {}'.format(self.first,self.last)\n",
    "    \n",
    "    def apply_raise(self):\n",
    "        self.pay = int(self.pay * self.raise_amount)\n",
    "        \n",
    "    @classmethod\n",
    "    def set_raise_amt(cls, amount):\n",
    "        cls.raise_amount = amount\n",
    "        \n",
    "#defining new class method     \n",
    "    @classmethod\n",
    "    def from_string(cls,emp_str):\n",
    "        first, last, pay = emp_str.split('-')\n",
    "        return cls(first, last , pay)\n",
    "    @staticmethod\n",
    "    def is_workday(day):\n",
    "        if day.weekday() == 5 or day.weekday() == 6:\n",
    "            return False\n",
    "        return True\n",
    "          \n",
    "        \n",
    "    \n",
    "emp_1 = Employee('Corey','Schafer',50000)\n",
    "emp_2 = Employee('Test','User',60000)  \n",
    "\n",
    "import datetime\n",
    "my_date = datetime.date(2016,7,11)\n",
    "\n",
    "print(Employee.is_workday(my_date))\n",
    "\n"
   ]
  },
  {
   "cell_type": "code",
   "execution_count": 49,
   "id": "be9ae89b",
   "metadata": {},
   "outputs": [
    {
     "name": "stdout",
     "output_type": "stream",
     "text": [
      "Corey.Schafer_@company.com\n",
      "Test.User_@company.com\n",
      "50000\n",
      "52000\n"
     ]
    }
   ],
   "source": [
    "# This demonstrate the change of class variable in subclass\n",
    "class Employee:\n",
    "    raise_amount = 1.04\n",
    "\n",
    "    def __init__(self,first, last, pay):\n",
    "        self.first = first\n",
    "        self.last = last\n",
    "        self.pay = pay\n",
    "        self.email = first + '.' + last + '_@company.com' \n",
    "        \n",
    "    def fullname(self):\n",
    "        return '{} {}'.format(self.first,self.last)\n",
    "    \n",
    "    def apply_raise(self):\n",
    "        self.pay = int(self.pay * self.raise_amount)\n",
    "        \n",
    "#defining a subclass\n",
    "class  Developer(Employee):\n",
    "    pass\n",
    "        \n",
    "    \n",
    "dev_1 = Developer('Corey','Schafer',50000)\n",
    "dev_2 = Developer('Test','User',60000)  \n",
    "\n",
    "print(dev_1.email)\n",
    "print(dev_2.email)\n",
    "\n",
    "# To see if developer class can access the class variable\n",
    "print(dev_1.pay)\n",
    "dev_1.apply_raise()\n",
    "print(dev_1.pay)"
   ]
  },
  {
   "cell_type": "code",
   "execution_count": 52,
   "id": "7cdef5b3",
   "metadata": {},
   "outputs": [
    {
     "name": "stdout",
     "output_type": "stream",
     "text": [
      "Corey.Schafer_@company.com\n",
      "Test.User_@company.com\n",
      "50000\n",
      "55000\n"
     ]
    }
   ],
   "source": [
    "# This is an example of sub classes\n",
    "class Employee:\n",
    "    raise_amount = 1.04\n",
    "\n",
    "    def __init__(self,first, last, pay):\n",
    "        self.first = first\n",
    "        self.last = last\n",
    "        self.pay = pay\n",
    "        self.email = first + '.' + last + '_@company.com' \n",
    "        \n",
    "    def fullname(self):\n",
    "        return '{} {}'.format(self.first,self.last)\n",
    "    \n",
    "    def apply_raise(self):\n",
    "        self.pay = int(self.pay * self.raise_amount)\n",
    "        \n",
    "#defining a subclass\n",
    "class  Developer(Employee):\n",
    "    raise_amount = 1.10\n",
    "        \n",
    "    \n",
    "dev_1 = Developer('Corey','Schafer',50000)\n",
    "dev_2 = Developer('Test','User',60000)  \n",
    "\n",
    "print(dev_1.email)\n",
    "print(dev_2.email)\n",
    "\n",
    "# To see if developer class can access the class variable\n",
    "print(dev_1.pay)\n",
    "dev_1.apply_raise()\n",
    "print(dev_1.pay)"
   ]
  },
  {
   "cell_type": "code",
   "execution_count": 53,
   "id": "e789b64a",
   "metadata": {},
   "outputs": [
    {
     "name": "stdout",
     "output_type": "stream",
     "text": [
      "Corey.Schafer_@company.com\n",
      "Python\n"
     ]
    }
   ],
   "source": [
    "# Defining a method inside sub class\n",
    "class Employee:\n",
    "    raise_amount = 1.04\n",
    "\n",
    "    def __init__(self,first, last, pay):\n",
    "        self.first = first\n",
    "        self.last = last\n",
    "        self.pay = pay\n",
    "        self.email = first + '.' + last + '_@company.com' \n",
    "        \n",
    "    def fullname(self):\n",
    "        return '{} {}'.format(self.first,self.last)\n",
    "    \n",
    "    def apply_raise(self):\n",
    "        self.pay = int(self.pay * self.raise_amount)\n",
    "        \n",
    "#defining a subclass\n",
    "class  Developer(Employee):\n",
    "    raise_amount = 1.10\n",
    "#defining a method for subclass    \n",
    "    def __init__(self,first,last,pay,prog_lang):\n",
    "        super().__init__(first,last,pay)  # or Employee.__init__(self,first,last,pay)\n",
    "        self.prog_lang = prog_lang\n",
    "    \n",
    "dev_1 = Developer('Corey','Schafer',50000,'Python')\n",
    "dev_2 = Developer('Test','User',60000,'Java')  \n",
    "\n",
    "print(dev_1.email)\n",
    "print(dev_1.prog_lang)\n"
   ]
  },
  {
   "cell_type": "code",
   "execution_count": 60,
   "id": "e62cf225",
   "metadata": {},
   "outputs": [
    {
     "name": "stdout",
     "output_type": "stream",
     "text": [
      "Sue.Smith_@company.com\n",
      "--> Corey Schafer\n",
      "------\n",
      "--> Corey Schafer\n",
      "--> Test User\n",
      "------\n",
      "--> Test User\n"
     ]
    }
   ],
   "source": [
    "#Another example of a subclass\n",
    "# Defining a method inside sub class\n",
    "class Employee:\n",
    "    raise_amount = 1.04\n",
    "\n",
    "    def __init__(self,first, last, pay):\n",
    "        self.first = first\n",
    "        self.last = last\n",
    "        self.pay = pay\n",
    "        self.email = first + '.' + last + '_@company.com' \n",
    "        \n",
    "    def fullname(self):\n",
    "        return '{} {}'.format(self.first,self.last)\n",
    "    \n",
    "    def apply_raise(self):\n",
    "        self.pay = int(self.pay * self.raise_amount)\n",
    "        \n",
    "#defining a subclass1\n",
    "class  Developer(Employee):\n",
    "    raise_amount = 1.10\n",
    "#defining a methid for subclass    \n",
    "    def __init__(self,first,last,pay,prog_lang):\n",
    "        super().__init__(first,last,pay)  # or Employee.__init__(self,first,last,pay)\n",
    "        self.prog_lang = prog_lang\n",
    "        \n",
    "#defining a subclass2\n",
    "class  Manager(Employee):\n",
    "#defining a method for subclass    \n",
    "    def __init__(self,first,last,pay,employees=None):\n",
    "        super().__init__(first,last,pay)  # or Employee.__init__(self,first,last,pay)\n",
    "        if employees is None:\n",
    "            self.employees = []\n",
    "        else:\n",
    "            self.employees = employees\n",
    "            \n",
    "    def add_emp(self,emp):\n",
    "        if emp not in self.employees:\n",
    "            self.employees.append(emp)\n",
    "            \n",
    "    def remove_emp(self,emp):\n",
    "        if emp in self.employees:\n",
    "            self.employees.remove(emp)  \n",
    "    \n",
    "    def print_emps(self):\n",
    "        for emp in self.employees:\n",
    "            print('-->', emp.fullname())\n",
    "        \n",
    "    \n",
    "dev_1 = Developer('Corey','Schafer',50000,'Python')\n",
    "dev_2 = Developer('Test','User',60000,'Java')  \n",
    "\n",
    "mng1 = Manager('Sue','Smith',90000,[dev_1])\n",
    "print(mng1.email)\n",
    "mng1.print_emps()\n",
    "print('------')\n",
    "mng1.add_emp(dev_2)\n",
    "mng1.print_emps()\n",
    "print('------')\n",
    "mng1.remove_emp(dev_1)\n",
    "mng1.print_emps()"
   ]
  },
  {
   "cell_type": "code",
   "execution_count": 47,
   "id": "81b3e8a0",
   "metadata": {},
   "outputs": [
    {
     "name": "stdout",
     "output_type": "stream",
     "text": [
      "Help on class Developer in module __main__:\n",
      "\n",
      "class Developer(Employee)\n",
      " |  Developer(first, last, pay)\n",
      " |  \n",
      " |  Method resolution order:\n",
      " |      Developer\n",
      " |      Employee\n",
      " |      builtins.object\n",
      " |  \n",
      " |  Methods inherited from Employee:\n",
      " |  \n",
      " |  __init__(self, first, last, pay)\n",
      " |      Initialize self.  See help(type(self)) for accurate signature.\n",
      " |  \n",
      " |  apply_raise(self)\n",
      " |  \n",
      " |  fullname(self)\n",
      " |  \n",
      " |  ----------------------------------------------------------------------\n",
      " |  Data descriptors inherited from Employee:\n",
      " |  \n",
      " |  __dict__\n",
      " |      dictionary for instance variables (if defined)\n",
      " |  \n",
      " |  __weakref__\n",
      " |      list of weak references to the object (if defined)\n",
      " |  \n",
      " |  ----------------------------------------------------------------------\n",
      " |  Data and other attributes inherited from Employee:\n",
      " |  \n",
      " |  raise_amount = 1.04\n",
      "\n",
      "None\n"
     ]
    }
   ],
   "source": [
    "print(help(Developer))"
   ]
  },
  {
   "cell_type": "markdown",
   "id": "38cc333f",
   "metadata": {},
   "source": [
    "Is instance\n",
    "\n",
    "Will tell if an object is an instance of a class\n",
    "\n",
    "Is Subclass\n",
    "\n",
    "Will tell if a class is a subclass of another class"
   ]
  },
  {
   "cell_type": "code",
   "execution_count": 65,
   "id": "625ec6f1",
   "metadata": {},
   "outputs": [
    {
     "name": "stdout",
     "output_type": "stream",
     "text": [
      "True\n",
      "True\n",
      "False\n",
      "-------------------------\n",
      "True\n",
      "True\n",
      "False\n"
     ]
    }
   ],
   "source": [
    "#Another example of a subclass\n",
    "# Defining a method inside sub class\n",
    "class Employee:\n",
    "    raise_amount = 1.04\n",
    "\n",
    "    def __init__(self,first, last, pay):\n",
    "        self.first = first\n",
    "        self.last = last\n",
    "        self.pay = pay\n",
    "        self.email = first + '.' + last + '_@company.com' \n",
    "        \n",
    "    def fullname(self):\n",
    "        return '{} {}'.format(self.first,self.last)\n",
    "    \n",
    "    def apply_raise(self):\n",
    "        self.pay = int(self.pay * self.raise_amount)\n",
    "        \n",
    "#defining a subclass1\n",
    "class  Developer(Employee):\n",
    "    raise_amount = 1.10\n",
    "#defining a methid for subclass    \n",
    "    def __init__(self,first,last,pay,prog_lang):\n",
    "        super().__init__(first,last,pay)  # or Employee.__init__(self,first,last,pay)\n",
    "        self.prog_lang = prog_lang\n",
    "        \n",
    "#defining a subclass2\n",
    "class  Manager(Employee):\n",
    "#defining a method for subclass    \n",
    "    def __init__(self,first,last,pay,employees=None):\n",
    "        super().__init__(first,last,pay)  # or Employee.__init__(self,first,last,pay)\n",
    "        if employees is None:\n",
    "            self.employees = []\n",
    "        else:\n",
    "            self.employees = employees\n",
    "            \n",
    "    def add_emp(self,emp):\n",
    "        if emp not in self.employees:\n",
    "            self.employees.append(emp)\n",
    "            \n",
    "    def remove_emp(self,emp):\n",
    "        if emp in self.employees:\n",
    "            self.employees.remove(emp)  \n",
    "    \n",
    "    def print_emps(self):\n",
    "        for emp in self.employees:\n",
    "            print('-->', emp.fullname())\n",
    "        \n",
    "    \n",
    "dev_1 = Developer('Corey','Schafer',50000,'Python')\n",
    "dev_2 = Developer('Test','User',60000,'Java')  \n",
    "\n",
    "mng1 = Manager('Sue','Smith',90000,[dev_1])\n",
    "#Isinstance example\n",
    "print(isinstance(mng1,Manager))\n",
    "print(isinstance(mng1,Employee))\n",
    "print(isinstance(mng1,Developer))\n",
    "print('-------------------------')\n",
    "#IsSubclass example\n",
    "print(issubclass(Developer,Employee))\n",
    "print(issubclass(Manager,Employee))\n",
    "print(issubclass(Manager,Developer))"
   ]
  },
  {
   "cell_type": "markdown",
   "id": "6d93a026",
   "metadata": {},
   "source": [
    "__ (double underscores) are also called as Dunder\n",
    "It is used for debugging purposes for developers"
   ]
  },
  {
   "cell_type": "code",
   "execution_count": 83,
   "id": "c777b3ec",
   "metadata": {},
   "outputs": [
    {
     "name": "stdout",
     "output_type": "stream",
     "text": [
      "Corey Schafer - Corey.Schafer_@company.com\n",
      "110000\n",
      "Employee('Corey', 'Schafer', '50000')\n",
      "Corey Schafer - Corey.Schafer_@company.com\n",
      "Employee('Corey', 'Schafer', '50000')\n",
      "Corey Schafer - Corey.Schafer_@company.com\n",
      "3\n",
      "ab\n",
      "5\n",
      "5\n"
     ]
    }
   ],
   "source": [
    "class Employee:\n",
    "    raise_amount = 1.04\n",
    "\n",
    "    def __init__(self,first, last, pay):\n",
    "        self.first = first\n",
    "        self.last = last\n",
    "        self.pay = pay\n",
    "        self.email = first + '.' + last + '_@company.com'\n",
    "        \n",
    "    def fullname(self):\n",
    "        return '{} {}'.format(self.first,self.last)\n",
    "    \n",
    "    def apply_raise(self):\n",
    "        self.pay = int(self.pay * self.raise_amount)\n",
    "#New Dunder Methods\n",
    "    def __repr__(self):\n",
    "        return \"Employee('{}', '{}', '{}')\".format(self.first,self.last,self.pay)   \n",
    "    def __str__(self):\n",
    "        return '{} - {}'.format(self.fullname(), self.email) \n",
    "    def __add__(self,other):\n",
    "        return self.pay + other.pay\n",
    "    def __len__(self):\n",
    "        return len(self.pay + other.pay    \n",
    "    \n",
    "emp_1 = Employee('Corey','Schafer',50000)\n",
    "emp_2 = Employee('Test','User',60000)  \n",
    "\n",
    "print(emp_1)\n",
    "print(emp_1 + emp_2)\n",
    "print(repr(emp_1))\n",
    "print(str(emp_1))\n",
    "print(emp_1.__repr__())\n",
    "print(emp_1.__str__())\n",
    "print(int.__add__(1,2))\n",
    "print(str.__add__('a','b'))\n",
    "print(len('test1'))\n",
    "print('test1'.__len__())"
   ]
  },
  {
   "cell_type": "markdown",
   "id": "3ac43f4c",
   "metadata": {},
   "source": [
    "Decorators\n",
    "\n",
    "In this we are defining an email method seperately to generalize it. But we need to change the code and provide brackets after the email. "
   ]
  },
  {
   "cell_type": "code",
   "execution_count": 88,
   "id": "449927ef",
   "metadata": {},
   "outputs": [
    {
     "name": "stdout",
     "output_type": "stream",
     "text": [
      "Jim\n",
      "Jim.Smith@email.com\n",
      "Jim Smith\n"
     ]
    }
   ],
   "source": [
    "class Employee:\n",
    "    raise_amount = 1.04\n",
    "\n",
    "    def __init__(self,first, last, pay):\n",
    "        self.first = first\n",
    "        self.last = last\n",
    "        self.pay = pay\n",
    "   \n",
    "    def email(self):\n",
    "        return '{}.{}@email.com'.format(self.first,self.last)       \n",
    "        \n",
    "    def fullname(self):\n",
    "        return '{} {}'.format(self.first,self.last)\n",
    "    \n",
    " \n",
    "    \n",
    "emp_1 = Employee('John','Smith',50000)\n",
    "\n",
    "emp_1.first = 'Jim'\n",
    "\n",
    "print(emp_1.first)\n",
    "print(emp_1.email())\n",
    "print(emp_1.fullname())\n",
    "\n",
    "\n"
   ]
  },
  {
   "cell_type": "code",
   "execution_count": null,
   "id": "bf8bf638",
   "metadata": {},
   "outputs": [],
   "source": [
    "To avoid change of code use decorators."
   ]
  },
  {
   "cell_type": "code",
   "execution_count": 99,
   "id": "338eaccf",
   "metadata": {},
   "outputs": [
    {
     "name": "stdout",
     "output_type": "stream",
     "text": [
      "Corey\n",
      "Corey.Schafer@email.com\n",
      "Corey Schafer\n",
      "Delete Name!\n"
     ]
    }
   ],
   "source": [
    "class Employee:\n",
    "    raise_amount = 1.04\n",
    "\n",
    "    def __init__(self,first, last, pay):\n",
    "        self.first = first\n",
    "        self.last = last\n",
    "        self.pay = pay\n",
    "    @property   \n",
    "    def email(self):\n",
    "        return '{}.{}@email.com'.format(self.first,self.last)       \n",
    "    @property     \n",
    "    def fullname(self):\n",
    "        return '{} {}'.format(self.first,self.last)\n",
    "    @fullname.setter\n",
    "    def fullname(self,name):\n",
    "        first,last = name.split(' ')\n",
    "        self.first = first\n",
    "        self.last = last \n",
    "    @fullname.deleter\n",
    "    def fullname(self):\n",
    "        print('Delete Name!') \n",
    "        self.first = None\n",
    "        self.last = None\n",
    "        \n",
    "emp_1 = Employee('John','Smith',50000)\n",
    "\n",
    "emp_1.first = 'Jim'\n",
    "emp_1.fullname = 'Corey Schafer'\n",
    "\n",
    "\n",
    "print(emp_1.first)\n",
    "print(emp_1.email)\n",
    "print(emp_1.fullname)\n",
    "\n",
    "del emp_1.fullname\n"
   ]
  },
  {
   "cell_type": "markdown",
   "id": "f855884e",
   "metadata": {},
   "source": [
    "## A Simple Program to Simulate Bank Account With Withdrawing And Deposit Functionalities"
   ]
  },
  {
   "cell_type": "code",
   "execution_count": 7,
   "id": "d8ebbb4d",
   "metadata": {},
   "outputs": [
    {
     "name": "stdout",
     "output_type": "stream",
     "text": [
      "{'name': 'Sakshi', 'balance': 2000, 'accountnumber': 1}\n",
      "2000\n",
      "1500\n",
      "{'name': 'Sakshi', 'balance': 1500, 'accountnumber': 1}\n",
      "Not enough balance!!!\n"
     ]
    }
   ],
   "source": [
    "class BankAccount:\n",
    "    defaultAccNumber = 1\n",
    "\n",
    "    def __init__(self, name, balance):\n",
    "        self.name = name\n",
    "        self.balance = balance\n",
    "        self.accountnumber = BankAccount.defaultAccNumber\n",
    "        BankAccount.defaultAccNumber += 1\n",
    "\n",
    "    def deposit(self, amount):\n",
    "        self.balance += amount\n",
    "\n",
    "    def withdraw(self, amount):\n",
    "        if self.balance < amount:\n",
    "            print('Not enough balance!!!')\n",
    "        else:\n",
    "            self.balance -= amount\n",
    "\n",
    "    def getBalance(self):\n",
    "        return self.balance\n",
    "\n",
    "\n",
    "myobj = BankAccount('Sakshi', 1000)\n",
    "myobj.deposit(1000)\n",
    "print(myobj.__dict__)\n",
    "print(myobj.getBalance())\n",
    "myobj.withdraw(500)\n",
    "print(myobj.getBalance())\n",
    "print(myobj.__dict__)\n",
    "myobj.withdraw(5000)"
   ]
  },
  {
   "cell_type": "code",
   "execution_count": null,
   "id": "5480921e",
   "metadata": {},
   "outputs": [],
   "source": []
  }
 ],
 "metadata": {
  "kernelspec": {
   "display_name": "Python 3 (ipykernel)",
   "language": "python",
   "name": "python3"
  },
  "language_info": {
   "codemirror_mode": {
    "name": "ipython",
    "version": 3
   },
   "file_extension": ".py",
   "mimetype": "text/x-python",
   "name": "python",
   "nbconvert_exporter": "python",
   "pygments_lexer": "ipython3",
   "version": "3.11.5"
  }
 },
 "nbformat": 4,
 "nbformat_minor": 5
}
