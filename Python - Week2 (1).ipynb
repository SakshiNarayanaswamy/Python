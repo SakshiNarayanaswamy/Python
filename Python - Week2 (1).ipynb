{
 "cells": [
  {
   "cell_type": "markdown",
   "id": "67b610e6",
   "metadata": {},
   "source": [
    "# Python Week 2 Learnings"
   ]
  },
  {
   "cell_type": "markdown",
   "id": "0f86c345",
   "metadata": {},
   "source": [
    "## A. What are Map, Reduce, Filter, Apply, Zip and Lambda Functions?"
   ]
  },
  {
   "cell_type": "markdown",
   "id": "baa75ea7",
   "metadata": {},
   "source": [
    "### 1  .apply()"
   ]
  },
  {
   "cell_type": "markdown",
   "id": "af69210c",
   "metadata": {},
   "source": [
    "Without using .apply() the average marks of students is calculated like below."
   ]
  },
  {
   "cell_type": "code",
   "execution_count": 4,
   "id": "9921ff9b",
   "metadata": {},
   "outputs": [
    {
     "name": "stdout",
     "output_type": "stream",
     "text": [
      "  Students  Hw_Grades  Test_Grades   Avg\n",
      "0     Suzy         50           60  55.0\n",
      "1      Rob         60           80  70.0\n",
      "2     John         85           85  85.0\n",
      "3    Salim         90           80  85.0\n",
      "4  Holland        100           90  95.0\n",
      "5   Howard         80          100  90.0\n",
      "6     Carl         90          105  97.5\n",
      "7   Serena         70           95  82.5\n",
      "8    Megan         90           90  90.0\n"
     ]
    }
   ],
   "source": [
    "import pandas as pd\n",
    "\n",
    "# Create a list of test grades\n",
    "test_grades = [60, 80, 85, 80, 90, 100, 105, 95, 90]\n",
    "# Create a list of Homework grades\n",
    "hw_grades = [50, 60, 85, 90, 100, 80, 90, 70, 90]\n",
    "#Create a list of student names.\n",
    "students = ['Suzy', 'Rob', 'John', 'Salim', 'Holland', 'Howard', 'Carl', 'Serena', 'Megan']\n",
    "#Create a list of column names for the DataFrame.\n",
    "col_names = ['Students', 'Hw_Grades', 'Test_Grades']\n",
    "#Create a pandas DataFrame named student_perf_df by zipping the three lists together and assigning column names\n",
    "student_perf_df = pd.DataFrame(list(zip(students, hw_grades, test_grades)),\n",
    "                               columns = col_names)\n",
    "#Define a function calc_avg that takes two numbers as input and returns their average.\n",
    "def calc_avg(num1, num2):\n",
    "    return (num1 + num2)/2\n",
    "\n",
    "#Iterate thru each record of the data frame\n",
    "# .iterrows  method is used to iterate through the DataFrame, returning pairs of index and row data for each iteration.\n",
    "for idx, row in student_perf_df.iterrows():\n",
    "#  is a method in pandas used for label-based indexing. Here, idx is the index of the current row being processed in the DataFrame.\n",
    "# The code is saying locate the row with index idx and ['Avg'] specifies the column named 'Avg'.     \n",
    "   student_perf_df.loc[idx, 'Avg'] = calc_avg(row['Hw_Grades'], row['Test_Grades'])\n",
    "\n",
    "print(student_perf_df)"
   ]
  },
  {
   "cell_type": "markdown",
   "id": "b8ba369e",
   "metadata": {},
   "source": [
    "Using .apply() the average marks of students is calculated like below."
   ]
  },
  {
   "cell_type": "code",
   "execution_count": 7,
   "id": "6bf64549",
   "metadata": {},
   "outputs": [
    {
     "name": "stdout",
     "output_type": "stream",
     "text": [
      "  Students  Hw_Grades  Test_Grades   Avg\n",
      "0     Suzy         50           60  55.0\n",
      "1      Rob         60           80  70.0\n",
      "2     John         85           85  85.0\n",
      "3    Salim         90           80  85.0\n",
      "4  Holland        100           90  95.0\n",
      "5   Howard         80          100  90.0\n",
      "6     Carl         90          105  97.5\n",
      "7   Serena         70           95  82.5\n",
      "8    Megan         90           90  90.0\n"
     ]
    }
   ],
   "source": [
    "import pandas as pd\n",
    "\n",
    "# Create a list of test grades\n",
    "test_grades = [60, 80, 85, 80, 90, 100, 105, 95, 90]\n",
    "# Create a list of Homework grades\n",
    "hw_grades = [50, 60, 85, 90, 100, 80, 90, 70, 90]\n",
    "#Create a list of student names.\n",
    "students = ['Suzy', 'Rob', 'John', 'Salim', 'Holland', 'Howard', 'Carl', 'Serena', 'Megan']\n",
    "#Create a list of column names for the DataFrame.\n",
    "col_names = ['Students', 'Hw_Grades', 'Test_Grades']\n",
    "#Create a pandas DataFrame named student_perf_df by zipping the three lists together and assigning column names\n",
    "student_perf_df = pd.DataFrame(list(zip(students, hw_grades, test_grades)),\n",
    "                               columns = col_names)\n",
    "#Define a function calc_avg that takes two numbers as input and returns their average.\n",
    "def calc_avg(num1, num2):\n",
    "    return (num1+num2)/2\n",
    "\n",
    "#using .apply()\n",
    "avg_scores = []\n",
    "avg_scores =  student_perf_df.apply( lambda row: calc_avg(row['Hw_Grades'], row['Test_Grades']), axis=1)\n",
    "student_perf_df['Avg'] = avg_scores\n",
    "print(student_perf_df)"
   ]
  },
  {
   "cell_type": "code",
   "execution_count": null,
   "id": "8d5b83f8",
   "metadata": {},
   "outputs": [],
   "source": [
    "The \"apply\" method in pandas applies a function along a specific axis of the DataFrame. In this case, the function will be applied to each row (axis=1 indicates rows).\n",
    "Different types of axis\n",
    "1. axis=0 (default): This refers to operations along rows. When you specify axis=0, the operation will be performed vertically, row-wise.\n",
    "\n",
    "2. axis=1: This refers to operations along columns. When you specify axis=1, the operation will be performed horizontally, column-wise.\n",
    "\n",
    "Example : Consider a data frame with following columns\n",
    " A  1  2  3\n",
    " B  4  5  6\n",
    " C  7  8  9\n",
    " \n",
    " Axis = 0\n",
    " Output: A     6\n",
    "         B    15\n",
    "         C    24\n",
    " Axis = 1\n",
    " Output: A    12\n",
    "         B    15\n",
    "         C    18\n",
    "         \n",
    "Lambda function is used for : \n",
    "A lambda function is a concise way to define a small, anonymous function. Here, it takes a single argument (row) and calculates the average using the calc_avg function for the 'Hw_Grades' and 'Test_Grades' values in that row.\n",
    "Here it is Equivalent to\n",
    "def calculate_average(row):\n",
    "    return calc_avg(row['Hw_Grades'], row['Test_Grades'])\n",
    "\n",
    "\n",
    "Example for apply with axis 0 and 1\n",
    "Original DataFrame \n",
    "\n",
    "  Students  Hw_Grades  Test_Grades\n",
    "0     Suzy         50           60\n",
    "1      Rob         60           80\n",
    "2     John         85           85\n",
    "3    Salim         90           80\n",
    "4  Holland        100           90\n",
    "5   Howard         80          100\n",
    "6     Carl         90          105\n",
    "7   Serena         70           95\n",
    "8    Megan         90           90\n",
    "\n",
    "After Applying \"apply\" to Calculate Averages:\n",
    "0     55.0\n",
    "1     70.0\n",
    "2     85.0\n",
    "3     85.0\n",
    "4     95.0\n",
    "5     90.0\n",
    "6     97.5\n",
    "7     82.5\n",
    "8     90.0\n",
    "\n",
    "Updated DataFrame (student_perf_df) with 'Avg' Column:\n",
    "  Students  Hw_Grades  Test_Grades   Avg\n",
    "0     Suzy         50           60  55.0\n",
    "1      Rob         60           80  70.0\n",
    "2     John         85           85  85.0\n",
    "3    Salim         90           80  85.0\n",
    "4  Holland        100           90  95.0\n",
    "5   Howard         80          100  90.0\n",
    "6     Carl         90          105  97.5\n",
    "7   Serena         70           95  82.5\n",
    "8    Megan         90           90  90.0"
   ]
  },
  {
   "cell_type": "markdown",
   "id": "fb008e6b",
   "metadata": {},
   "source": [
    "### 2  .zip()"
   ]
  },
  {
   "cell_type": "markdown",
   "id": "93cabbd6",
   "metadata": {},
   "source": [
    "Takes iterables from different containers(lists, dicts) and returns a single iterator object after mapping values from all the previous containers. One thing to make sure is that if you’re working with lists, then the lists must be of the same length."
   ]
  },
  {
   "cell_type": "code",
   "execution_count": 23,
   "id": "27aabcbe",
   "metadata": {},
   "outputs": [
    {
     "name": "stdout",
     "output_type": "stream",
     "text": [
      "Output1:\n",
      "    \n",
      "[('Cloud', 25), ('Bruce', 30), ('Clark', 32), ('Grant', 15), ('Lana', 76), ('Sora', 26), ('Thanos', 28), ('Tony', 42)]\n",
      "    \n",
      "Output2:\n",
      "    \n",
      "{'God of War 4': 60.0, 'Rainbow 6 Siege': 20.0, 'Assassins Creed: Vikings': 40.0}\n"
     ]
    }
   ],
   "source": [
    "#Create a list for names\n",
    "names = ['Cloud', 'Bruce', 'Clark', 'Grant', \"Lana\", \"Sora\", 'Thanos', 'Tony']\n",
    "#Create a list for age\n",
    "age = [25, 30, 32, 15, 76, 26, 28, 42]\n",
    "#Use zip to combine both and display thru iteration\n",
    "mapped_2_lists = list(zip(names, age))\n",
    "print('Output1:')\n",
    "print('    ')\n",
    "print(mapped_2_lists)\n",
    "\n",
    "video_games = ['God of War 4', 'Rainbow 6 Siege', 'Assassins Creed: Vikings']\n",
    "game_prices = [60.00, 20.00, 40.00]\n",
    "\n",
    "game_price_dict = {game: price for game, price in zip(video_games, game_prices)}\n",
    "print('    ')\n",
    "print('Output2:')\n",
    "print('    ')\n",
    "print(game_price_dict)"
   ]
  },
  {
   "cell_type": "markdown",
   "id": "3c266bb9",
   "metadata": {},
   "source": [
    "zip(video_games, game_prices): This function takes two iterables (video_games and game_prices) and pairs their elements together. In this case, it creates pairs of video game titles and their corresponding prices.\n",
    "\n",
    "{game: price for game, price in ...}: This is a dictionary comprehension. It iterates over the pairs created by zip, and for each pair, it creates a key-value pair in the dictionary.\n",
    "\n",
    "The variable game represents the video game title.\n",
    "The variable price represents the corresponding price.\n",
    "The expression {game: price} creates a key-value pair in the dictionary.\n",
    "game_price_dict: This variable stores the resulting dictionary."
   ]
  },
  {
   "cell_type": "markdown",
   "id": "5608b70f",
   "metadata": {},
   "source": [
    "### 3  .lamda()"
   ]
  },
  {
   "cell_type": "markdown",
   "id": "d053d893",
   "metadata": {},
   "source": [
    "Lambda defines an anonymous function. This function can have multiple arguments, but is ultimately evaluated as one expression. Lambda functions give you the ability to create small, one line functions which saves time, reduces the amount of code and allows you to use them as objects to pass along as inputs to other functions."
   ]
  },
  {
   "cell_type": "code",
   "execution_count": 25,
   "id": "fefbc778",
   "metadata": {},
   "outputs": [
    {
     "name": "stdout",
     "output_type": "stream",
     "text": [
      "Standard Avg Function: 36.333333333333336 Lambda Avg Function: 36.333333333333336\n",
      "Standard Square Num: 25 Lambda Square Num: 25\n",
      "Lambda Odd Number odd num\n",
      "Lambda Sorting [0, 11, 12, 43, 44, 53, 67, 67, 86, 89, 98]\n"
     ]
    }
   ],
   "source": [
    "\n",
    "\"\"\"Lambda Average\"\"\"\n",
    "num_list = [87, 34, 1, 55, 23, 34, 22, 67, 48, 29, 10, 26]\n",
    "# Clasical way of defining function\n",
    "def calc_avg(num_list):\n",
    "    return sum(num_list)/len(num_list)\n",
    "# Lamda way of defining the function with less code\n",
    "lambda_avg = lambda number_list: sum(number_list)/len(number_list)\n",
    "\n",
    "print('Standard Avg Function:', calc_avg(num_list), \n",
    "      'Lambda Avg Function:', lambda_avg(num_list))\n",
    "\n",
    "\"\"\"Lambda Square\"\"\"\n",
    "# Clasical way of defining function\n",
    "def square_num(num1):\n",
    "    return num1 ** 2\n",
    "# Lamda way of defining the function with less code\n",
    "lambda_square = lambda num1: num1 ** 2\n",
    "\n",
    "print('Standard Square Num:', square_num(5), \n",
    "      'Lambda Square Num:', square_num(5))\n",
    "\n",
    "\"\"\"Lambda Odd Number\"\"\"\n",
    "odd_num = lambda num: \"even num\" if num % 2 == 0 else \"odd num\"\n",
    "print('Lambda Odd Number', odd_num(5))\n",
    "\n",
    "\"\"\"Lambda Sorting\"\"\"\n",
    "num_list2 = [43,12,67,89,11,44,0, 98,86,53,67]\n",
    "lambda_sorting_list = sorted(num_list2, key=lambda x: int(x))\n",
    "print(\"Lambda Sorting\", lambda_sorting_list)"
   ]
  },
  {
   "cell_type": "markdown",
   "id": "be6358ce",
   "metadata": {},
   "source": [
    "### 4 .map()"
   ]
  },
  {
   "cell_type": "markdown",
   "id": "34ddb65d",
   "metadata": {},
   "source": [
    "Map is a function that works as an iterator to return a result after applying a function to every item of an iterable (tuple, lists, etc.)."
   ]
  },
  {
   "cell_type": "code",
   "execution_count": 26,
   "id": "5e33b92a",
   "metadata": {},
   "outputs": [
    {
     "name": "stdout",
     "output_type": "stream",
     "text": [
      "Lambda [4, -4, 20, -40, 80, -240, -320, 120, 92, 224, 364, -396]\n",
      "Map + Lambda [4, -4, 20, -40, 80, -240, -320, 120, 92, 224, 364, -396]\n",
      "Lambda Calculating Total Prices [142.15, 199.1875, 141.975, 56.25]\n",
      "Listified Cereal [['C', 'o', 'c', 'o', ' ', 'P', 'u', 'f', 'f', 's'], ['C', 'i', 'n', 'n', 'a', 'm', 'o', 'n', ' ', 'T', 'o', 'a', 's', 't', ' ', 'C', 'r', 'u', 'n', 'c', 'h'], ['F', 'r', 'u', 'i', 't', 'y', ' ', 'P', 'e', 'b', 'b', 'l', 'e', 's'], ['C', 'o', 'o', 'k', 'i', 'e', ' ', 'C', 'r', 'i', 's', 'p'], ['C', 'h', 'e', 'x'], ['K', 'i', 'x']]\n"
     ]
    }
   ],
   "source": [
    "num_list4 = [1, -1, 5, -10, 20, -60, -80, 30, 23, 56, 91, -99]\n",
    "def multiply_4(n):\n",
    "    return n * 4\n",
    "\n",
    "#need to wrap in list function to avoid returning memory location\n",
    "muliplied_by_4_list = list(map(multiply_4, num_list4))\n",
    "print(\"Lambda\", muliplied_by_4_list)\n",
    "\n",
    "\"\"\"Map + Lambda\"\"\"\n",
    "multiplied_by_4_list_lambda = list(map(lambda x: x * 4, num_list4))\n",
    "print(\"Map + Lambda\", multiplied_by_4_list_lambda)\n",
    "\n",
    "price = [981.00, 876.75, 573.25, 142.50]\n",
    "discounts = [.15, .25, .30, .50]\n",
    "coupons = [5.00, 20.00, 30.00, 15.00]\n",
    "\n",
    "total_prices = list(map(lambda x, y, z : x*y-z, price, discounts, coupons))\n",
    "print(\"Lambda Calculating Total Prices\", total_prices)\n",
    "\n",
    "\"\"\"Map List Elements in a List\"\"\"\n",
    "cereal = ['Coco Puffs', 'Cinnamon Toast Crunch', 'Fruity Pebbles', \n",
    "          'Cookie Crisp', 'Chex', 'Kix']\n",
    "\n",
    "listified_cereal = list(map(list, cereal))\n",
    "print('Listified Cereal', listified_cereal)"
   ]
  },
  {
   "cell_type": "markdown",
   "id": "0284749f",
   "metadata": {},
   "source": [
    "### 5 .reduce() "
   ]
  },
  {
   "cell_type": "markdown",
   "id": "87ebfe50",
   "metadata": {},
   "source": [
    "The reduce function applies a specified function to all the elements of your list or series and reduces the number of values in your list/series. This belongs to the functools library."
   ]
  },
  {
   "cell_type": "code",
   "execution_count": 27,
   "id": "95b898dd",
   "metadata": {},
   "outputs": [
    {
     "name": "stdout",
     "output_type": "stream",
     "text": [
      "House Downpayments:  [45000.0, 120000.0, 240000.0, 162150.0, 1040050.0, 71050.0]\n",
      "Monthly Payments Over 30 Years:  [1250, 2222, 3333, 1501, 28890, 5638]\n",
      "Total Inventory Value:  15421000.0\n"
     ]
    }
   ],
   "source": [
    "from functools import reduce\n",
    "\n",
    "home_prices = [450000.00, 800000.00, 1200000.00, 540500.00, 10400500.00, 2030000.00]\n",
    "downpayment_rate = [.10, .15, .20, .30, .10, .035]\n",
    "monthly_payment_30 = 360\n",
    "\n",
    "downpayment_for_homes = list(map(lambda x, y: x * y, home_prices, downpayment_rate))\n",
    "monthly_payments_30y = list(map(lambda x : int(x/monthly_payment_30), home_prices))\n",
    "\n",
    "total_value_of_owned_homes = reduce(lambda x, y : x + y, home_prices)\n",
    "\n",
    "print(\"House Downpayments: \", downpayment_for_homes)\n",
    "print('Monthly Payments Over 30 Years: ', monthly_payments_30y)\n",
    "print('Total Inventory Value: ', total_value_of_owned_homes)"
   ]
  },
  {
   "cell_type": "markdown",
   "id": "b2aa84a5",
   "metadata": {},
   "source": [
    "### Example 1 project to use all the above methods"
   ]
  },
  {
   "cell_type": "code",
   "execution_count": 28,
   "id": "4e9a92ce",
   "metadata": {},
   "outputs": [
    {
     "name": "stdout",
     "output_type": "stream",
     "text": [
      "Movies DataFrame with 'User_Preference' Column:\n",
      "                      Movie   Genre  Rating     Budget User_Preference\n",
      "0                 Inception  Sci-Fi     4.8  160000000        Favorite\n",
      "1           The Dark Knight  Action     4.9  185000000           Liked\n",
      "2              Pulp Fiction   Crime     4.5    8000000         Neutral\n",
      "3  The Shawshank Redemption   Drama     4.7   25000000   Not Preferred\n",
      "4              Forrest Gump   Drama     4.6   55000000   Not Preferred\n",
      "\n",
      "Adjusted Budgets based on User Preferences:\n",
      "0    192000000.0\n",
      "1    148000000.0\n",
      "2      6400000.0\n",
      "3     20000000.0\n",
      "4     44000000.0\n",
      "dtype: float64\n",
      "\n",
      "Total Adjusted Budget for Selected Movies:\n",
      "410400000.0\n"
     ]
    }
   ],
   "source": [
    "import pandas as pd\n",
    "from functools import reduce\n",
    "\n",
    "# Sample data\n",
    "movies = ['Inception', 'The Dark Knight', 'Pulp Fiction', 'The Shawshank Redemption', 'Forrest Gump']\n",
    "genres = ['Sci-Fi', 'Action', 'Crime', 'Drama', 'Drama']\n",
    "ratings = [4.8, 4.9, 4.5, 4.7, 4.6]\n",
    "budgets = [160000000, 185000000, 8000000, 25000000, 55000000]\n",
    "\n",
    "# Create a DataFrame\n",
    "col_names = ['Movie', 'Genre', 'Rating', 'Budget']\n",
    "movies_df = pd.DataFrame(list(zip(movies, genres, ratings, budgets)), columns=col_names)\n",
    "\n",
    "# Function to categorize movies based on user preferences\n",
    "user_preferences = {'Sci-Fi': 'Favorite', 'Action': 'Liked', 'Crime': 'Neutral', 'Drama': 'Not Preferred'}\n",
    "movies_df['User_Preference'] = movies_df['Genre'].map(lambda x: user_preferences.get(x, 'Unknown'))\n",
    "\n",
    "# Display the modified DataFrame\n",
    "print(\"Movies DataFrame with 'User_Preference' Column:\")\n",
    "print(movies_df)\n",
    "\n",
    "# Use apply to calculate the adjusted budget based on user preferences\n",
    "adjusted_budgets = movies_df.apply(lambda row: row['Budget'] * (1.2 if row['User_Preference'] == 'Favorite' else 0.8), axis=1)\n",
    "\n",
    "# Display the adjusted budgets\n",
    "print(\"\\nAdjusted Budgets based on User Preferences:\")\n",
    "print(adjusted_budgets)\n",
    "\n",
    "# Use Reduce to calculate the total adjusted budget\n",
    "total_adjusted_budget = reduce(lambda x, y: x + y, adjusted_budgets)\n",
    "\n",
    "# Display the total adjusted budget\n",
    "print(\"\\nTotal Adjusted Budget for Selected Movies:\")\n",
    "print(total_adjusted_budget)\n"
   ]
  },
  {
   "cell_type": "markdown",
   "id": "d5f0be21",
   "metadata": {},
   "source": [
    "### Example 2 project to use all the above methods"
   ]
  },
  {
   "cell_type": "code",
   "execution_count": 29,
   "id": "50e0c0fb",
   "metadata": {},
   "outputs": [
    {
     "name": "stdout",
     "output_type": "stream",
     "text": [
      "Devices DataFrame with 'Power_Category' Column:\n",
      "           Device  Power_Consumption Power_Category\n",
      "0          Laptop                 60   Medium Power\n",
      "1      Smartphone                 10      Low Power\n",
      "2    Refrigerator                150     High Power\n",
      "3  Gaming Console                120     High Power\n",
      "4          LED TV                 80   Medium Power\n",
      "\n",
      "Total Power Consumption by Category:\n",
      "{'Low Power': 10, 'Medium Power': 140, 'High Power': 270}\n"
     ]
    }
   ],
   "source": [
    "import pandas as pd\n",
    "from functools import reduce\n",
    "\n",
    "# Sample data\n",
    "devices = ['Laptop', 'Smartphone', 'Refrigerator', 'Gaming Console', 'LED TV']\n",
    "power_consumption = [60, 10, 150, 120, 80]\n",
    "\n",
    "# Create a DataFrame\n",
    "col_names = ['Device', 'Power_Consumption']\n",
    "devices_df = pd.DataFrame(list(zip(devices, power_consumption)), columns=col_names)\n",
    "\n",
    "# Dictionary mapping power categories\n",
    "power_categories = {20: 'Low Power', 80: 'Medium Power', 150: 'High Power'}\n",
    "\n",
    "# Use map to categorize devices based on power consumption\n",
    "devices_df['Power_Category'] = devices_df['Power_Consumption'].map(lambda x: next((category for threshold, category in power_categories.items() if x <= threshold), 'Unknown'))\n",
    "\n",
    "# Display the modified DataFrame\n",
    "print(\"Devices DataFrame with 'Power_Category' Column:\")\n",
    "print(devices_df)\n",
    "\n",
    "# Use reduce to calculate the total power consumption for each category\n",
    "total_power_by_category = {category: reduce(lambda x, y: x + y, devices_df.loc[devices_df['Power_Category'] == category, 'Power_Consumption']) for category in power_categories.values()}\n",
    "\n",
    "# Display the total power consumption for each category\n",
    "print(\"\\nTotal Power Consumption by Category:\")\n",
    "print(total_power_by_category)\n"
   ]
  },
  {
   "cell_type": "markdown",
   "id": "2c399411",
   "metadata": {},
   "source": [
    "## B. Regular Expressions"
   ]
  },
  {
   "cell_type": "markdown",
   "id": "5706171c",
   "metadata": {},
   "source": [
    "A RegEx, or Regular Expression, is a sequence of characters that forms a search pattern.\n",
    "RegEx can be used to check if a string contains the specified search pattern. Example:\n",
    "To search the string to see if it starts with \"The\" and ends with \"Spain\":"
   ]
  },
  {
   "cell_type": "code",
   "execution_count": 32,
   "id": "df8c9896",
   "metadata": {},
   "outputs": [
    {
     "name": "stdout",
     "output_type": "stream",
     "text": [
      "YES! We have a match!\n"
     ]
    }
   ],
   "source": [
    "import re\n",
    "\n",
    "txt = \"The rain in Spain\"\n",
    "x = re.search(\"^The.*Spain$\", txt)\n",
    "if x:\n",
    "  print(\"YES! We have a match!\")\n",
    "else:\n",
    "  print(\"No match\")"
   ]
  },
  {
   "cell_type": "markdown",
   "id": "6e90a7d2",
   "metadata": {},
   "source": [
    "#### Metacharacters"
   ]
  },
  {
   "cell_type": "code",
   "execution_count": 45,
   "id": "74d78dd2",
   "metadata": {},
   "outputs": [
    {
     "name": "stdout",
     "output_type": "stream",
     "text": [
      "['h', 'e', 'a', 'i', 'i', 'a', 'i']\n",
      "['5', '9']\n",
      "['hello', 'he12o']\n",
      "Yes, the string starts with 'hello'\n",
      "Yes, the string ends with 'planet'\n",
      "['hello']\n",
      "['hello']\n",
      "[]\n",
      "['hello']\n",
      "['falls']\n",
      "Yes, there is at least one match!\n"
     ]
    }
   ],
   "source": [
    "txt = \"The rain in Spain\"\n",
    "### 1.  [] A set of characters\n",
    "x = re.findall(\"[a-m]\", txt)\n",
    "print(x)\n",
    "\n",
    "\n",
    "### 2. \\ Signals a special sequence (can also be used to escape special characters)\n",
    "txt = \"That will be 59 dollars\"\n",
    "#Find all digit characters:\n",
    "x = re.findall(\"\\d\", txt)\n",
    "print(x)\n",
    "\n",
    "### 3. . Any character (except newline character)\n",
    "txt = \"hello he12o planet\"\n",
    "#Search for a sequence that starts with \"he\", followed by two (any) characters, and an \"o\":\n",
    "x = re.findall(\"he..o\", txt)\n",
    "print(x)\n",
    "\n",
    "\n",
    "### 4. ^ starts with\n",
    "txt = \"hello planet\"\n",
    "#Check if the string starts with 'hello':\n",
    "x = re.findall(\"^hello\", txt)\n",
    "if x:\n",
    "  print(\"Yes, the string starts with 'hello'\")\n",
    "else:\n",
    "  print(\"No match\")\n",
    "\n",
    "\n",
    "### 5. $ Ends with\n",
    "txt = \"hello planet\"\n",
    "#Check if the string ends with 'planet':\n",
    "x = re.findall(\"planet$\", txt)\n",
    "if x:\n",
    "  print(\"Yes, the string ends with 'planet'\")\n",
    "else:\n",
    "  print(\"No match\")\n",
    "\n",
    "\n",
    "### 6. * Zero or more occurrences\n",
    "txt = \"hello planet\"\n",
    "#Search for a sequence that starts with \"he\", followed by 0 or more  (any) characters, and an \"o\":\n",
    "x = re.findall(\"he.*o\", txt)\n",
    "print(x)\n",
    "\n",
    "\n",
    "### 7. + One or more occurrences\n",
    "txt = \"hello planet\"\n",
    "#Search for a sequence that starts with \"he\", followed by 1 or more  (any) characters, and an \"o\":\n",
    "x = re.findall(\"he.+o\", txt)\n",
    "print(x)\n",
    "\n",
    "\n",
    "### 8. ? Zero or one occurrences\n",
    "txt = \"hello planet\"\n",
    "#Search for a sequence that starts with \"he\", followed by 0 or 1  (any) character, and an \"o\":\n",
    "x = re.findall(\"he.?o\", txt)\n",
    "print(x)\n",
    "\n",
    "\n",
    "### 9. {} Exactly the specified number of occurrences\n",
    "txt = \"hello planet\"\n",
    "x = re.findall(\"he.{2}o\", txt)\n",
    "print(x)\n",
    "\n",
    "\n",
    "### 10. |  Either or\n",
    "txt = \"The rain in Spain falls mainly in the plain!\"\n",
    "#Check if the string contains either \"falls\" or \"stays\":\n",
    "x = re.findall(\"falls|stays\", txt)\n",
    "print(x)\n",
    "if x:\n",
    "  print(\"Yes, there is at least one match!\")\n",
    "else:\n",
    "  print(\"No match\")"
   ]
  },
  {
   "cell_type": "markdown",
   "id": "faeacde0",
   "metadata": {},
   "source": [
    "#### Special Sequences"
   ]
  },
  {
   "cell_type": "markdown",
   "id": "86595d7e",
   "metadata": {},
   "source": [
    "A special sequence is a \\ followed by one of the characters in the list below, and has a special meaning:"
   ]
  },
  {
   "cell_type": "markdown",
   "id": "e9ca49c7",
   "metadata": {},
   "source": [
    "\\A\tReturns a match if the specified characters are at the beginning of the string"
   ]
  },
  {
   "cell_type": "code",
   "execution_count": 47,
   "id": "d7b9f021",
   "metadata": {},
   "outputs": [
    {
     "name": "stdout",
     "output_type": "stream",
     "text": [
      "['The']\n",
      "Yes, there is a match!\n"
     ]
    }
   ],
   "source": [
    "import re\n",
    "\n",
    "txt = \"The rain in Spain\"\n",
    "\n",
    "#Check if the string starts with \"The\":\n",
    "\n",
    "x = re.findall(\"\\AThe\", txt)\n",
    "\n",
    "print(x)\n",
    "\n",
    "if x:\n",
    "  print(\"Yes, there is a match!\")\n",
    "else:\n",
    "  print(\"No match\")"
   ]
  },
  {
   "cell_type": "markdown",
   "id": "df5ca49f",
   "metadata": {},
   "source": [
    "\\b\tReturns a match where the specified characters are at the beginning or at the end of a word\n",
    "(the \"r\" in the beginning is making sure that the string is being treated as a \"raw string\")"
   ]
  },
  {
   "cell_type": "code",
   "execution_count": 50,
   "id": "d926b94d",
   "metadata": {},
   "outputs": [
    {
     "name": "stdout",
     "output_type": "stream",
     "text": [
      "[]\n",
      "No match\n",
      "['ain', 'ain']\n",
      "Yes, there is at least one match!\n"
     ]
    }
   ],
   "source": [
    "import re\n",
    "\n",
    "txt = \"The rain in Spain\"\n",
    "\n",
    "#Check if \"ain\" is present at the beginning of a WORD:\n",
    "x = re.findall(r\"\\bain\", txt)\n",
    "print(x)\n",
    "if x:\n",
    "  print(\"Yes, there is at least one match!\")\n",
    "else:\n",
    "  print(\"No match\")\n",
    "\n",
    "#Check if \"ain\" is present at the end of a WORD:\n",
    "x = re.findall(r\"ain\\b\", txt)\n",
    "print(x)\n",
    "if x:\n",
    "  print(\"Yes, there is at least one match!\")\n",
    "else:\n",
    "  print(\"No match\")"
   ]
  },
  {
   "cell_type": "markdown",
   "id": "f2f7b1f3",
   "metadata": {},
   "source": [
    "\\B\tReturns a match where the specified characters are present, but NOT at the beginning (or at the end) of a word\n",
    "(the \"r\" in the beginning is making sure that the string is being treated as a \"raw string\")"
   ]
  },
  {
   "cell_type": "code",
   "execution_count": 51,
   "id": "fe9cc133",
   "metadata": {},
   "outputs": [
    {
     "name": "stdout",
     "output_type": "stream",
     "text": [
      "['ain', 'ain']\n",
      "Yes, there is at least one match!\n",
      "[]\n",
      "No match\n"
     ]
    }
   ],
   "source": [
    "import re\n",
    "txt = \"The rain in Spain\"\n",
    "#Check if \"ain\" is present, but NOT at the beginning of a word:\n",
    "x = re.findall(r\"\\Bain\", txt)\n",
    "print(x)\n",
    "if x:\n",
    "  print(\"Yes, there is at least one match!\")\n",
    "else:\n",
    "  print(\"No match\")\n",
    "txt = \"The rain in Spain\"\n",
    "\n",
    "#Check if \"ain\" is present, but NOT at the end of a word:\n",
    "x = re.findall(r\"ain\\B\", txt)\n",
    "print(x)\n",
    "if x:\n",
    "  print(\"Yes, there is at least one match!\")\n",
    "else:\n",
    "  print(\"No match\")"
   ]
  },
  {
   "cell_type": "markdown",
   "id": "87f9474b",
   "metadata": {},
   "source": [
    "\\d\tReturns a match where the string contains digits (numbers from 0-9)"
   ]
  },
  {
   "cell_type": "code",
   "execution_count": 54,
   "id": "987f5d0f",
   "metadata": {},
   "outputs": [
    {
     "name": "stdout",
     "output_type": "stream",
     "text": [
      "['2']\n",
      "Yes, there is at least one match!\n"
     ]
    }
   ],
   "source": [
    "import re\n",
    "\n",
    "txt = \"The rain2 in Spain\"\n",
    "\n",
    "#Check if the string contains any digits (numbers from 0-9):\n",
    "\n",
    "x = re.findall(\"\\d\", txt)\n",
    "\n",
    "print(x)\n",
    "\n",
    "if x:\n",
    "  print(\"Yes, there is at least one match!\")\n",
    "else:\n",
    "  print(\"No match\")\n"
   ]
  },
  {
   "cell_type": "markdown",
   "id": "b0be2e1a",
   "metadata": {},
   "source": [
    "\\D\tReturns a match where the string DOES NOT contain digits\t\"\\D\""
   ]
  },
  {
   "cell_type": "code",
   "execution_count": 53,
   "id": "3ba1c350",
   "metadata": {},
   "outputs": [
    {
     "name": "stdout",
     "output_type": "stream",
     "text": [
      "['T', 'h', 'e', ' ', 'r', 'a', 'i', 'n', ' ', 'i', 'n', ' ', 'S', 'p', 'a', 'i', 'n']\n",
      "Yes, there is at least one match!\n"
     ]
    }
   ],
   "source": [
    "import re\n",
    "txt = \"The rain in Spain\"\n",
    "#Return a match at every no-digit character:\n",
    "x = re.findall(\"\\D\", txt)\n",
    "print(x)\n",
    "if x:\n",
    "  print(\"Yes, there is at least one match!\")\n",
    "else:\n",
    "  print(\"No match\")"
   ]
  },
  {
   "cell_type": "markdown",
   "id": "5285afdd",
   "metadata": {},
   "source": [
    "\\s\tReturns a match where the string contains a white space character"
   ]
  },
  {
   "cell_type": "code",
   "execution_count": 55,
   "id": "500aed5b",
   "metadata": {},
   "outputs": [
    {
     "name": "stdout",
     "output_type": "stream",
     "text": [
      "[' ', ' ', ' ']\n",
      "Yes, there is at least one match!\n"
     ]
    }
   ],
   "source": [
    "import re\n",
    "txt = \"The rain in Spain\"\n",
    "#Return a match at every white-space character:\n",
    "x = re.findall(\"\\s\", txt)\n",
    "print(x)\n",
    "if x:\n",
    "  print(\"Yes, there is at least one match!\")\n",
    "else:\n",
    "  print(\"No match\")"
   ]
  },
  {
   "cell_type": "markdown",
   "id": "e0f01646",
   "metadata": {},
   "source": [
    "\\S\tReturns a match where the string DOES NOT contain a white space character"
   ]
  },
  {
   "cell_type": "code",
   "execution_count": 56,
   "id": "3cee5785",
   "metadata": {},
   "outputs": [
    {
     "name": "stdout",
     "output_type": "stream",
     "text": [
      "['T', 'h', 'e', 'r', 'a', 'i', 'n', 'i', 'n', 'S', 'p', 'a', 'i', 'n']\n",
      "Yes, there is at least one match!\n"
     ]
    }
   ],
   "source": [
    "import re\n",
    "txt = \"The rain in Spain\"\n",
    "#Return a match at every NON white-space character:\n",
    "x = re.findall(\"\\S\", txt)\n",
    "print(x)\n",
    "if x:\n",
    "  print(\"Yes, there is at least one match!\")\n",
    "else:\n",
    "  print(\"No match\")"
   ]
  },
  {
   "cell_type": "markdown",
   "id": "6af10c61",
   "metadata": {},
   "source": [
    "\\w\tReturns a match where the string contains any word characters (characters from a to Z, digits from 0-9, and the underscore _ character)"
   ]
  },
  {
   "cell_type": "code",
   "execution_count": 57,
   "id": "e719be6e",
   "metadata": {},
   "outputs": [
    {
     "name": "stdout",
     "output_type": "stream",
     "text": [
      "['T', 'h', 'e', 'r', 'a', 'i', 'n', 'i', 'n', 'S', 'p', 'a', 'i', 'n']\n",
      "Yes, there is at least one match!\n"
     ]
    }
   ],
   "source": [
    "import re\n",
    "txt = \"The rain in Spain\"\n",
    "#Return a match at every word character (characters from a to Z, digits from 0-9, and the underscore _ character):\n",
    "x = re.findall(\"\\w\", txt)\n",
    "print(x)\n",
    "if x:\n",
    "  print(\"Yes, there is at least one match!\")\n",
    "else:\n",
    "  print(\"No match\")"
   ]
  },
  {
   "cell_type": "markdown",
   "id": "59a62de6",
   "metadata": {},
   "source": [
    "\\W\tReturns a match where the string DOES NOT contain any word characters"
   ]
  },
  {
   "cell_type": "code",
   "execution_count": 59,
   "id": "02bdfb07",
   "metadata": {},
   "outputs": [
    {
     "name": "stdout",
     "output_type": "stream",
     "text": [
      "[' ', ' ', ' ', '?']\n",
      "Yes, there is at least one match!\n"
     ]
    }
   ],
   "source": [
    "import re\n",
    "txt = \"The rain in Spain?\"\n",
    "#Return a match at every NON word character (characters NOT between a and Z. Like \"!\", \"?\" white-space etc.):\n",
    "x = re.findall(\"\\W\", txt)\n",
    "print(x)\n",
    "if x:\n",
    "  print(\"Yes, there is at least one match!\")\n",
    "else:\n",
    "  print(\"No match\")"
   ]
  },
  {
   "cell_type": "markdown",
   "id": "4d785fab",
   "metadata": {},
   "source": [
    "\\Z\tReturns a match if the specified characters are at the end of the string"
   ]
  },
  {
   "cell_type": "code",
   "execution_count": 62,
   "id": "db818232",
   "metadata": {},
   "outputs": [
    {
     "name": "stdout",
     "output_type": "stream",
     "text": [
      "['Spain']\n",
      "Yes, there is a match!\n"
     ]
    }
   ],
   "source": [
    "import re\n",
    "txt = \"The rain in Spain\"\n",
    "#Check if the string ends with \"Spain\":\n",
    "x = re.findall(\"Spain\\Z\", txt)\n",
    "print(x)\n",
    "if x:\n",
    "  print(\"Yes, there is a match!\")\n",
    "else:\n",
    "  print(\"No match\")"
   ]
  },
  {
   "cell_type": "markdown",
   "id": "cb1932fc",
   "metadata": {},
   "source": [
    "#### Sets "
   ]
  },
  {
   "cell_type": "markdown",
   "id": "6de04f8c",
   "metadata": {},
   "source": [
    "[arn]\tReturns a match where one of the specified characters (a, r, or n) is present"
   ]
  },
  {
   "cell_type": "code",
   "execution_count": 63,
   "id": "b314477d",
   "metadata": {},
   "outputs": [
    {
     "name": "stdout",
     "output_type": "stream",
     "text": [
      "['r', 'a', 'n', 'n', 'a', 'n']\n",
      "Yes, there is at least one match!\n"
     ]
    }
   ],
   "source": [
    "import re\n",
    "txt = \"The rain in Spain\"\n",
    "#Check if the string has any a, r, or n characters:\n",
    "x = re.findall(\"[arn]\", txt)\n",
    "print(x)\n",
    "if x:\n",
    "  print(\"Yes, there is at least one match!\")\n",
    "else:\n",
    "  print(\"No match\")"
   ]
  },
  {
   "cell_type": "markdown",
   "id": "9209c955",
   "metadata": {},
   "source": [
    "[a-n]\tReturns a match for any lower case character, alphabetically between a and n"
   ]
  },
  {
   "cell_type": "code",
   "execution_count": 64,
   "id": "bc564a79",
   "metadata": {},
   "outputs": [
    {
     "name": "stdout",
     "output_type": "stream",
     "text": [
      "['h', 'e', 'a', 'i', 'n', 'i', 'n', 'a', 'i', 'n']\n",
      "Yes, there is at least one match!\n"
     ]
    }
   ],
   "source": [
    "import re\n",
    "txt = \"The rain in Spain\"\n",
    "#Check if the string has any characters between a and n:\n",
    "x = re.findall(\"[a-n]\", txt)\n",
    "print(x)\n",
    "if x:\n",
    "  print(\"Yes, there is at least one match!\")\n",
    "else:\n",
    "  print(\"No match\")"
   ]
  },
  {
   "cell_type": "markdown",
   "id": "a545edc2",
   "metadata": {},
   "source": [
    "[^arn]\tReturns a match for any character EXCEPT a, r, and n"
   ]
  },
  {
   "cell_type": "code",
   "execution_count": 65,
   "id": "204f5ce6",
   "metadata": {},
   "outputs": [
    {
     "name": "stdout",
     "output_type": "stream",
     "text": [
      "['T', 'h', 'e', ' ', 'i', ' ', 'i', ' ', 'S', 'p', 'i']\n",
      "Yes, there is at least one match!\n"
     ]
    }
   ],
   "source": [
    "import re\n",
    "txt = \"The rain in Spain\"\n",
    "#Check if the string has other characters than a, r, or n:\n",
    "x = re.findall(\"[^arn]\", txt)\n",
    "print(x)\n",
    "if x:\n",
    "  print(\"Yes, there is at least one match!\")\n",
    "else:\n",
    "  print(\"No match\")"
   ]
  },
  {
   "cell_type": "markdown",
   "id": "0d9eb668",
   "metadata": {},
   "source": [
    "[0123]\tReturns a match where any of the specified digits (0, 1, 2, or 3) are present"
   ]
  },
  {
   "cell_type": "code",
   "execution_count": 66,
   "id": "492cb91a",
   "metadata": {},
   "outputs": [
    {
     "name": "stdout",
     "output_type": "stream",
     "text": [
      "[]\n",
      "No match\n"
     ]
    }
   ],
   "source": [
    "import re\n",
    "txt = \"The rain in Spain\"\n",
    "#Check if the string has any 0, 1, 2, or 3 digits:\n",
    "x = re.findall(\"[0123]\", txt)\n",
    "print(x)\n",
    "if x:\n",
    "  print(\"Yes, there is at least one match!\")\n",
    "else:\n",
    "  print(\"No match\")"
   ]
  },
  {
   "cell_type": "markdown",
   "id": "e939664b",
   "metadata": {},
   "source": [
    "[0-9]\tReturns a match for any digit between 0 and 9"
   ]
  },
  {
   "cell_type": "code",
   "execution_count": 67,
   "id": "9f01d069",
   "metadata": {},
   "outputs": [
    {
     "name": "stdout",
     "output_type": "stream",
     "text": [
      "['8', '1', '1', '4', '5']\n",
      "Yes, there is at least one match!\n"
     ]
    }
   ],
   "source": [
    "import re\n",
    "txt = \"8 times before 11:45 AM\"\n",
    "#Check if the string has any digits:\n",
    "x = re.findall(\"[0-9]\", txt)\n",
    "print(x)\n",
    "if x:\n",
    "  print(\"Yes, there is at least one match!\")\n",
    "else:\n",
    "  print(\"No match\")"
   ]
  },
  {
   "cell_type": "markdown",
   "id": "a992fab7",
   "metadata": {},
   "source": [
    "[0-5][0-9]\tReturns a match for any two-digit numbers from 00 and 59"
   ]
  },
  {
   "cell_type": "code",
   "execution_count": 68,
   "id": "1e213f81",
   "metadata": {},
   "outputs": [
    {
     "name": "stdout",
     "output_type": "stream",
     "text": [
      "['11', '45']\n",
      "Yes, there is at least one match!\n"
     ]
    }
   ],
   "source": [
    "import re\n",
    "txt = \"8 times before 11:45 AM\"\n",
    "#Check if the string has any two-digit numbers, from 00 to 59:\n",
    "x = re.findall(\"[0-5][0-9]\", txt)\n",
    "print(x)\n",
    "if x:\n",
    "  print(\"Yes, there is at least one match!\")\n",
    "else:\n",
    "  print(\"No match\")"
   ]
  },
  {
   "cell_type": "markdown",
   "id": "bb93ce3f",
   "metadata": {},
   "source": [
    "[a-zA-Z]\tReturns a match for any character alphabetically between a and z, lower case OR upper case"
   ]
  },
  {
   "cell_type": "code",
   "execution_count": 69,
   "id": "615bb50d",
   "metadata": {},
   "outputs": [
    {
     "name": "stdout",
     "output_type": "stream",
     "text": [
      "['t', 'i', 'm', 'e', 's', 'b', 'e', 'f', 'o', 'r', 'e', 'A', 'M']\n",
      "Yes, there is at least one match!\n"
     ]
    }
   ],
   "source": [
    "import re\n",
    "txt = \"8 times before 11:45 AM\"\n",
    "#Check if the string has any characters from a to z lower case, and A to Z upper case:\n",
    "x = re.findall(\"[a-zA-Z]\", txt)\n",
    "print(x)\n",
    "if x:\n",
    "  print(\"Yes, there is at least one match!\")\n",
    "else:\n",
    "  print(\"No match\")"
   ]
  },
  {
   "cell_type": "markdown",
   "id": "9f7b2a60",
   "metadata": {},
   "source": [
    "[+]\tIn sets, +, *, ., |, (), $,{} has no special meaning, so [+] means: return a match for any + character in the string"
   ]
  },
  {
   "cell_type": "code",
   "execution_count": 70,
   "id": "b2540566",
   "metadata": {},
   "outputs": [
    {
     "name": "stdout",
     "output_type": "stream",
     "text": [
      "[]\n",
      "No match\n"
     ]
    }
   ],
   "source": [
    "import re\n",
    "txt = \"8 times before 11:45 AM\"\n",
    "#Check if the string has any + characters:\n",
    "x = re.findall(\"[+]\", txt)\n",
    "print(x)\n",
    "if x:\n",
    "  print(\"Yes, there is at least one match!\")\n",
    "else:\n",
    "  print(\"No match\")"
   ]
  },
  {
   "cell_type": "markdown",
   "id": "f51fd464",
   "metadata": {},
   "source": [
    "findall() function"
   ]
  },
  {
   "cell_type": "code",
   "execution_count": 71,
   "id": "0a009b4b",
   "metadata": {},
   "outputs": [
    {
     "name": "stdout",
     "output_type": "stream",
     "text": [
      "['ai', 'ai']\n",
      "[]\n"
     ]
    }
   ],
   "source": [
    "import re\n",
    "\n",
    "txt = \"The rain in Spain\"\n",
    "x = re.findall(\"ai\", txt)\n",
    "print(x)\n",
    "x = re.findall(\"Portugal\", txt)\n",
    "print(x)"
   ]
  },
  {
   "cell_type": "markdown",
   "id": "1731f7c2",
   "metadata": {},
   "source": [
    "search() function\n",
    "\n",
    "The search() function searches the string for a match, and returns a Match object if there is a match.\n",
    "If there is more than one match, only the first occurrence of the match will be returned:"
   ]
  },
  {
   "cell_type": "code",
   "execution_count": 72,
   "id": "8fb7fefd",
   "metadata": {},
   "outputs": [
    {
     "name": "stdout",
     "output_type": "stream",
     "text": [
      "The first white-space character is located in position: 3\n",
      "None\n"
     ]
    }
   ],
   "source": [
    "import re\n",
    "txt = \"The rain in Spain\"\n",
    "x = re.search(\"\\s\", txt)\n",
    "print(\"The first white-space character is located in position:\", x.start())\n",
    "x = re.search(\"Portugal\", txt)\n",
    "print(x)"
   ]
  },
  {
   "cell_type": "markdown",
   "id": "712ffd83",
   "metadata": {},
   "source": [
    "split() function\n",
    "\n",
    "The split() function returns a list where the string has been split at each match"
   ]
  },
  {
   "cell_type": "code",
   "execution_count": 73,
   "id": "c65d3be5",
   "metadata": {},
   "outputs": [
    {
     "name": "stdout",
     "output_type": "stream",
     "text": [
      "['The', 'rain', 'in', 'Spain']\n",
      "['The', 'rain in Spain']\n"
     ]
    }
   ],
   "source": [
    "import re\n",
    "\n",
    "txt = \"The rain in Spain\"\n",
    "x = re.split(\"\\s\", txt)\n",
    "print(x)\n",
    "x = re.split(\"\\s\", txt, 1)\n",
    "print(x)"
   ]
  },
  {
   "cell_type": "markdown",
   "id": "8b4513bd",
   "metadata": {},
   "source": [
    "sub() function\n",
    "\n",
    "The sub() function replaces the matches with the text of your choice"
   ]
  },
  {
   "cell_type": "code",
   "execution_count": 74,
   "id": "41d9b159",
   "metadata": {},
   "outputs": [
    {
     "name": "stdout",
     "output_type": "stream",
     "text": [
      "The9rain9in9Spain\n",
      "The9rain9in Spain\n"
     ]
    }
   ],
   "source": [
    "import re\n",
    "\n",
    "txt = \"The rain in Spain\"\n",
    "x = re.sub(\"\\s\", \"9\", txt)\n",
    "print(x)\n",
    "x = re.sub(\"\\s\", \"9\", txt, 2)\n",
    "print(x)"
   ]
  },
  {
   "cell_type": "markdown",
   "id": "fd6173f8",
   "metadata": {},
   "source": [
    "Match() function\n",
    "\n",
    "A Match Object is an object containing information about the search and the result.\n",
    "The Match object has properties and methods used to retrieve information about the search, and the result:\n",
    "\n",
    ".span() returns a tuple containing the start-, and end positions of the match.\n",
    "\n",
    ".string returns the string passed into the function\n",
    "\n",
    ".group() returns the part of the string where there was a match"
   ]
  },
  {
   "cell_type": "code",
   "execution_count": 75,
   "id": "887ffc71",
   "metadata": {},
   "outputs": [
    {
     "name": "stdout",
     "output_type": "stream",
     "text": [
      "<re.Match object; span=(5, 7), match='ai'>\n",
      "(12, 17)\n",
      "The rain in Spain\n",
      "Spain\n"
     ]
    }
   ],
   "source": [
    "import re\n",
    "txt = \"The rain in Spain\"\n",
    "x = re.search(\"ai\", txt)\n",
    "print(x) #this will print an object\n",
    "x = re.search(r\"\\bS\\w+\", txt)\n",
    "print(x.span())\n",
    "print(x.string)\n",
    "print(x.group())"
   ]
  },
  {
   "cell_type": "markdown",
   "id": "0f67b0fc",
   "metadata": {},
   "source": [
    "## C. How to use RegEx inside the Expression of a Lambda Function"
   ]
  },
  {
   "cell_type": "markdown",
   "id": "205adf21",
   "metadata": {},
   "source": [
    "1. FILTER() IN LAMBDA WITH REGEX"
   ]
  },
  {
   "cell_type": "code",
   "execution_count": 76,
   "id": "8c3030c3",
   "metadata": {},
   "outputs": [
    {
     "name": "stdout",
     "output_type": "stream",
     "text": [
      "['apple', 'apricot', 'avocado']\n"
     ]
    }
   ],
   "source": [
    "import re\n",
    "\n",
    "fruits = ['apple', 'mango', 'banana', 'cherry', 'apricot', 'raspberry', 'avocado']\n",
    "filtered_fruits = filter(lambda fruit: re.match('^a', fruit), fruits)\n",
    "\n",
    "# convert the new fruits to another list and print it\n",
    "print(list(filtered_fruits)) # ['apple', 'apricot', 'avocado']"
   ]
  },
  {
   "cell_type": "markdown",
   "id": "d73ad7fa",
   "metadata": {},
   "source": [
    "2. MAP() IN LAMBDA WITH REGEX"
   ]
  },
  {
   "cell_type": "code",
   "execution_count": 77,
   "id": "f47304ce",
   "metadata": {},
   "outputs": [
    {
     "name": "stdout",
     "output_type": "stream",
     "text": [
      "['apple', 'banana', 'cherry', 'date', 'berry']\n"
     ]
    }
   ],
   "source": [
    "import re\n",
    "\n",
    "fruits2 = ['opple', 'bonono', 'cherry', 'dote', 'berry']\n",
    "modified_fruits = map(lambda fruit: re.sub('o', 'a', fruit), fruits2)\n",
    "\n",
    "# convert the new fruits to another list and print it\n",
    "print(list(modified_fruits)) # ['apple', 'banana', 'cherry', 'date', 'berry']"
   ]
  },
  {
   "cell_type": "markdown",
   "id": "f42e891e",
   "metadata": {},
   "source": [
    "3. SORT() IN LAMBDA WITH REGEX (ASCENDING ORDER)"
   ]
  },
  {
   "cell_type": "code",
   "execution_count": 78,
   "id": "c0b27df7",
   "metadata": {},
   "outputs": [
    {
     "name": "stdout",
     "output_type": "stream",
     "text": [
      "['fig', 'banana', 'grapefruit']\n"
     ]
    }
   ],
   "source": [
    "import re\n",
    "\n",
    "fruits = [ 'banana', 'fig', 'grapefruit']\n",
    "\n",
    "# sort fruits based on the number of vowels\n",
    "fruits.sort(key=lambda x: len(re.findall('[aeiou]', x)))\n",
    "\n",
    "print(fruits) #['fig', 'banana', 'grapefruit']"
   ]
  },
  {
   "cell_type": "markdown",
   "id": "b4c3ab07",
   "metadata": {},
   "source": [
    "4. SORT() IN LAMBDA WITH REGEX (DESCENDING ORDER)"
   ]
  },
  {
   "cell_type": "code",
   "execution_count": 79,
   "id": "a7c2611c",
   "metadata": {},
   "outputs": [
    {
     "name": "stdout",
     "output_type": "stream",
     "text": [
      "['grapefruit', 'banana', 'fig']\n"
     ]
    }
   ],
   "source": [
    "import re\n",
    "\n",
    "fruits = [ 'banana', 'fig', 'grapefruit']\n",
    "\n",
    "# sort fruits based on the number of vowels\n",
    "fruits.sort(key=lambda x: len(re.findall('[aeiou]', x)), reverse=True)\n",
    "\n",
    "print(fruits) # ['grapefruit', 'banana', 'fig']"
   ]
  },
  {
   "cell_type": "markdown",
   "id": "be3380f5",
   "metadata": {},
   "source": [
    "### Example 1. On Regex :"
   ]
  },
  {
   "cell_type": "code",
   "execution_count": 3,
   "id": "40ed3563",
   "metadata": {},
   "outputs": [
    {
     "name": "stdout",
     "output_type": "stream",
     "text": [
      "Input Phone Numbers:\n",
      "['+1 (555) 123-4567', '+44 (20) 7946 0958', '+91 9876543210', '123-456-7890', 'invalid-number']\n",
      "\n",
      "Extracted Phone Components:\n",
      "Phone: +1 (555) 123-4567, Country Code: 1, Area Code: 555, Local Number: 123-4567\n",
      "Phone: +44 (20) 7946 0958, Country Code: None, Area Code: None, Local Number: None\n",
      "Phone: +91 9876543210, Country Code: None, Area Code: None, Local Number: None\n",
      "Phone: 123-456-7890, Country Code: None, Area Code: None, Local Number: None\n",
      "Phone: invalid-number, Country Code: None, Area Code: None, Local Number: None\n"
     ]
    }
   ],
   "source": [
    "import re\n",
    "\n",
    "# Sample data - List of phone numbers\n",
    "phone_numbers = [\n",
    "    '+1 (555) 123-4567',\n",
    "    '+44 (20) 7946 0958',\n",
    "    '+91 9876543210',\n",
    "    '123-456-7890',\n",
    "    'invalid-number'\n",
    "]\n",
    "\n",
    "# Regular expression pattern to parse and validate phone numbers\n",
    "phone_pattern = re.compile(r'\\+(\\d{1,4}) \\((\\d{1,4})\\) (\\d{1,})-(\\d{1,})')\n",
    "\n",
    "# Function to extract and validate phone number components\n",
    "def extract_phone_parts(phone):\n",
    "    match = phone_pattern.match(phone)\n",
    "    if match:\n",
    "        country_code = match.group(1)\n",
    "        area_code = match.group(2)\n",
    "        local_number = f\"{match.group(3)}-{match.group(4)}\"\n",
    "        return country_code, area_code, local_number\n",
    "    else:\n",
    "        return None, None, None\n",
    "\n",
    "# Apply the extract_phone_parts function to each phone number\n",
    "result = [extract_phone_parts(phone) for phone in phone_numbers]\n",
    "\n",
    "# Display the input phone numbers and the extracted components\n",
    "print(\"Input Phone Numbers:\")\n",
    "print(phone_numbers)\n",
    "print(\"\\nExtracted Phone Components:\")\n",
    "for phone, (country_code, area_code, local_number) in zip(phone_numbers, result):\n",
    "    print(f\"Phone: {phone}, Country Code: {country_code}, Area Code: {area_code}, Local Number: {local_number}\")\n"
   ]
  },
  {
   "cell_type": "markdown",
   "id": "ab37eadb",
   "metadata": {},
   "source": [
    "### Example 2. On Regex :"
   ]
  },
  {
   "cell_type": "code",
   "execution_count": 81,
   "id": "99acf118",
   "metadata": {},
   "outputs": [
    {
     "name": "stdout",
     "output_type": "stream",
     "text": [
      "Input Product Codes:\n",
      "['ABC123-M001-S001', 'XYZ789-N002-T002', 'InvalidCode', 'PQR456-X003-Y003', 'LMN012-K004-Z004']\n",
      "\n",
      "Extracted Product Components:\n",
      "Product Code: ABC123-M001-S001, Category: ABC, Model: 123, Type: M, Serial: 001\n",
      "Product Code: XYZ789-N002-T002, Category: XYZ, Model: 789, Type: N, Serial: 002\n",
      "Product Code: InvalidCode, Category: None, Model: None, Type: None, Serial: None\n",
      "Product Code: PQR456-X003-Y003, Category: PQR, Model: 456, Type: X, Serial: 003\n",
      "Product Code: LMN012-K004-Z004, Category: LMN, Model: 012, Type: K, Serial: 004\n"
     ]
    }
   ],
   "source": [
    "import re\n",
    "\n",
    "# Sample data - List of product codes\n",
    "product_codes = [\n",
    "    'ABC123-M001-S001',\n",
    "    'XYZ789-N002-T002',\n",
    "    'InvalidCode',\n",
    "    'PQR456-X003-Y003',\n",
    "    'LMN012-K004-Z004'\n",
    "]\n",
    "\n",
    "# Regular expression pattern to parse and validate product codes\n",
    "product_code_pattern = re.compile(r'(?P<category>[A-Z]{3})(?P<model>[0-9]{3})-(?P<type>[A-Z]{1})(?P<serial>[0-9]{3})')\n",
    "\n",
    "# Function to extract and validate product code components\n",
    "def extract_product_parts(product_code):\n",
    "    match = product_code_pattern.match(product_code)\n",
    "    if match:\n",
    "        category = match.group('category')\n",
    "        model = match.group('model')\n",
    "        product_type = match.group('type')\n",
    "        serial_number = match.group('serial')\n",
    "        return category, model, product_type, serial_number\n",
    "    else:\n",
    "        return None, None, None, None\n",
    "\n",
    "# Apply the extract_product_parts function to each product code\n",
    "result = [extract_product_parts(code) for code in product_codes]\n",
    "\n",
    "# Display the input product codes and the extracted components\n",
    "print(\"Input Product Codes:\")\n",
    "print(product_codes)\n",
    "print(\"\\nExtracted Product Components:\")\n",
    "for code, (category, model, product_type, serial_number) in zip(product_codes, result):\n",
    "    print(f\"Product Code: {code}, Category: {category}, Model: {model}, Type: {product_type}, Serial: {serial_number}\")\n"
   ]
  },
  {
   "cell_type": "markdown",
   "id": "205d6460",
   "metadata": {},
   "source": [
    "### Example 3. On Regex :"
   ]
  },
  {
   "cell_type": "code",
   "execution_count": 82,
   "id": "e4c9b6dd",
   "metadata": {},
   "outputs": [
    {
     "name": "stdout",
     "output_type": "stream",
     "text": [
      "Input Employee IDs:\n",
      "['HR123-001-A', 'SA456-002-B', 'InvalidID', 'IT789-003-C', 'MK321-004-D']\n",
      "\n",
      "Extracted Employee ID Components:\n",
      "Employee ID: HR123-001-A, Department Code: None, Employee Number: None, Check Digit: None\n",
      "Employee ID: SA456-002-B, Department Code: None, Employee Number: None, Check Digit: None\n",
      "Employee ID: InvalidID, Department Code: None, Employee Number: None, Check Digit: None\n",
      "Employee ID: IT789-003-C, Department Code: None, Employee Number: None, Check Digit: None\n",
      "Employee ID: MK321-004-D, Department Code: None, Employee Number: None, Check Digit: None\n"
     ]
    }
   ],
   "source": [
    "import re\n",
    "\n",
    "# Sample data - List of employee IDs\n",
    "employee_ids = [\n",
    "    'HR123-001-A',\n",
    "    'SA456-002-B',\n",
    "    'InvalidID',\n",
    "    'IT789-003-C',\n",
    "    'MK321-004-D'\n",
    "]\n",
    "\n",
    "# Regular expression pattern to parse and validate employee IDs\n",
    "employee_id_pattern = re.compile(r'(?P<dept_code>[A-Z]{2})(?P<emp_num>\\d{3})-(?P<check_digit>[A-Z])')\n",
    "\n",
    "# Function to extract and validate employee ID components\n",
    "def extract_employee_info(employee_id):\n",
    "    match = employee_id_pattern.match(employee_id)\n",
    "    if match:\n",
    "        dept_code = match.group('dept_code')\n",
    "        emp_num = match.group('emp_num')\n",
    "        check_digit = match.group('check_digit')\n",
    "        return dept_code, emp_num, check_digit\n",
    "    else:\n",
    "        return None, None, None\n",
    "\n",
    "# Apply the extract_employee_info function to each employee ID\n",
    "result = [extract_employee_info(emp_id) for emp_id in employee_ids]\n",
    "\n",
    "# Display the input employee IDs and the extracted components\n",
    "print(\"Input Employee IDs:\")\n",
    "print(employee_ids)\n",
    "print(\"\\nExtracted Employee ID Components:\")\n",
    "for emp_id, (dept_code, emp_num, check_digit) in zip(employee_ids, result):\n",
    "    print(f\"Employee ID: {emp_id}, Department Code: {dept_code}, Employee Number: {emp_num}, Check Digit: {check_digit}\")\n"
   ]
  },
  {
   "cell_type": "markdown",
   "id": "2802d075",
   "metadata": {},
   "source": [
    "### Example 4. On Regex :"
   ]
  },
  {
   "cell_type": "code",
   "execution_count": 87,
   "id": "fd8e7393",
   "metadata": {},
   "outputs": [
    {
     "name": "stdout",
     "output_type": "stream",
     "text": [
      "Input File Names:\n",
      "['20220115_report.txt', '20220220_summary.docx', 'invalid_file.txt', '20220325_analysis.csv', '20220410_final_report.pdf']\n",
      "\n",
      "Extracted Information:\n",
      "File Name: 20220115_report.txt, Date: 20220115, Description: report\n",
      "File Name: 20220220_summary.docx, Date: 20220220, Description: summary\n",
      "File Name: invalid_file.txt, Date: 20220325, Description: analysis\n",
      "File Name: 20220325_analysis.csv, Date: 20220410, Description: final_report\n"
     ]
    }
   ],
   "source": [
    "import re\n",
    "\n",
    "# Sample data - List of file names\n",
    "file_names = [\n",
    "    '20220115_report.txt',\n",
    "    '20220220_summary.docx',\n",
    "    'invalid_file.txt',\n",
    "    '20220325_analysis.csv',\n",
    "    '20220410_final_report.pdf'\n",
    "]\n",
    "\n",
    "# Regular expression pattern to extract date and description from file names\n",
    "file_name_pattern = re.compile(r'(?P<date>\\d{8})_(?P<description>[\\w]+)\\.(txt|docx|csv|pdf)')\n",
    "\n",
    "# Function to extract and validate file information\n",
    "def extract_file_info(file_name):\n",
    "    match = file_name_pattern.match(file_name)\n",
    "    if match:\n",
    "        return match.group('date'), match.group('description')\n",
    "    else:\n",
    "        return None, None\n",
    "\n",
    "# Use map function to extract information from file names\n",
    "extracted_info = list(map(extract_file_info, filter(lambda x: file_name_pattern.match(x) is not None, file_names)))\n",
    "\n",
    "# Display the input file names and the extracted information\n",
    "print(\"Input File Names:\")\n",
    "print(file_names)\n",
    "print(\"\\nExtracted Information:\")\n",
    "for file_name, (date, description) in zip(file_names, extracted_info):\n",
    "    print(f\"File Name: {file_name}, Date: {date}, Description: {description}\")\n"
   ]
  }
 ],
 "metadata": {
  "kernelspec": {
   "display_name": "Python 3 (ipykernel)",
   "language": "python",
   "name": "python3"
  },
  "language_info": {
   "codemirror_mode": {
    "name": "ipython",
    "version": 3
   },
   "file_extension": ".py",
   "mimetype": "text/x-python",
   "name": "python",
   "nbconvert_exporter": "python",
   "pygments_lexer": "ipython3",
   "version": "3.11.5"
  }
 },
 "nbformat": 4,
 "nbformat_minor": 5
}
